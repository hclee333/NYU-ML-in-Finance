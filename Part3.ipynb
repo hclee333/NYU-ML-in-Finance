# ## Part 3: Experiment with other signals and investigate the impact on model calibration obtained with alternative signals. Present your conclusions and observations. (Max 10 points).

# In[16]:


# Put the rest of your code and analysis for Part 3 here.
import os
cwd = os.getcwd()
#print(cwd)
os.listdir('/home/jovyan/work/readonly')

# load dataset
asset_prices = pd.read_csv('/home/jovyan/work/readonly/spx_holdings_and_spx_closeprice.csv',
                           date_parser=lambda dt: pd.to_datetime(dt, format='%Y-%m-%d'),
                           index_col = 0).dropna()
n_stocks_show = 12
print('Asset prices shape', asset_prices.shape)
asset_prices.iloc[:, :n_stocks_show].head()


# In[17]:


spx_df_cap_log = np.log(asset_prices)
spx_short_rolling_log = spx_df_cap_log.rolling(window=window_1).mean()
spx_long_rolling_log = spx_df_cap_log.rolling(window=window_2).mean()

spx_df_cap_scaler = MinMaxScaler([0.1, 1]).fit(dji_df_cap_log)

spx_df_cap_norm = pd.DataFrame(data=spx_df_cap_scaler.transform(spx_df_cap_log),
                               columns=spx_df_cap_log.columns,
                               index=spx_df_cap_log.index)

# Rescaling the signals
spx_long_rolling_norm = pd.DataFrame(data=spx_df_cap_scaler.transform(spx_long_rolling_log.dropna()),
                                     columns=spx_long_rolling_log.columns,
                                     index=spx_long_rolling_log.dropna().index)

spx_short_rolling_norm = pd.DataFrame(data=spx_df_cap_scaler.transform(spx_short_rolling_log.dropna()),
                                      columns=spx_short_rolling_log.columns,
                                      index=sspx_hort_rolling_log.dropna().index)

# Signals ar ethe percentage changes
spx_signal_1 = spx_short_rolling_norm.pct_change(periods=1).shift(-1).dropna().copy()
spx_signal_2 = spx_long_rolling_norm.pct_change(periods=1).shift(-1).dropna().copy()

# Consider the same times
spx_market = spx_df_cap_norm[spx_df_cap_norm.index.isin(spx_signal_1.index) &
                             spx_df_cap_norm.index.isin(spx_signal_2.index)]
spx_signal_1 = spx_signal_1[spx_signal_1.index.isin(spx_market.index)]
spx_signal_2 = spx_signal_2[spx_signal_2.index.isin(spx_market.index)]


# In[18]:


spx_estimation_scaled = fit_IRL_model(spx_market, spx_signal_1, spx_signal_2, epochs=5000, tol=1e-3)


# In[19]:


spx_estimation = spx_df_cap_scaler.inverse_transform(spx_estimation_scaled)
spx_df_est = pd.DataFrame(spx_estimation, columns=spx_estimation_scaled.columns, index=spx_estimation_scaled.index)


# In[ ]:


fig = plt.figure(figsize=(10,6))
ax = fig.add_subplot(1,1,1)
plt.suptitle('SPX Market cap demeaned and standardized for AAPL',size=20)

ax.plot(spx_df_cap_log.index, spx_df_cap_log.loc[:, 'AAPL'], label='Original')
ax.plot(spx_df_est.index, spx_df_est.loc[:, 'AAPL'], 
          label = 'Estimator')

ax.legend(loc='best')
ax.set_ylabel('log-ret')

plt.show()


# ## Part 4 (Optional): Show me something else.
# 
# Here you can develop any additional analysis of the model that you may find interesting (One possible suggestion is 
# presented above, but you should feel free to choose your own topic). Present your case and finding/conclusions.
# 

# In[10]:


# Put the rest of your code and analysis for Part 3 here.


# In[ ]:




