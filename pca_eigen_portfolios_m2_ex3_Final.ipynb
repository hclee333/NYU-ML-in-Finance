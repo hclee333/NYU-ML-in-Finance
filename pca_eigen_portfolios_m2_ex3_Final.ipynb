{
 "cells": [
  {
   "cell_type": "markdown",
   "metadata": {},
   "source": [
    "## Eigen-portfolio construction using Principal Component Analysis (PCA)\n",
    "\n",
    "### PCA via sklearn.decomposition using S&P 500 Index stock data\n",
    "\n",
    "Welcome to your 2-nd assignment in Unsupervised Machine Learning in Finance.\n",
    "\n",
    "In this assignment we look in-depth at model-free factor analysis using PCA. By model-free we mean that we do not rely on any factors such as value or momentum to decompose portfolio returns, but instead using Principal Component Analysis (PCA) to deduce structure of portfolio returns.\n",
    "\n",
    "We work with S&P 500 index stock data. "
   ]
  },
  {
   "cell_type": "markdown",
   "metadata": {},
   "source": [
    "## About iPython Notebooks ##\n",
    "\n",
    "iPython Notebooks are interactive coding environments embedded in a webpage. You will be using iPython notebooks in this class. You only need to write code between the ### START CODE HERE ### and ### END CODE HERE ### comments. After writing your code, you can run the cell by either pressing \"SHIFT\"+\"ENTER\" or by clicking on \"Run Cell\" (denoted by a play symbol) in the upper bar of the notebook. \n",
    "\n",
    "We will often specify \"(≈ X lines of code)\" in the comments to tell you about how much code you need to write. It is just a rough estimate, so don't feel bad if your code is longer or shorter."
   ]
  },
  {
   "cell_type": "code",
   "execution_count": 1,
   "metadata": {},
   "outputs": [
    {
     "name": "stdout",
     "output_type": "stream",
     "text": [
      "  pandas: 0.19.2\n"
     ]
    }
   ],
   "source": [
    "import os\n",
    "import os.path\n",
    "import numpy as np\n",
    "import datetime\n",
    "\n",
    "import sys\n",
    "sys.path.append(\"..\")\n",
    "import grading\n",
    "\n",
    "try:\n",
    "    import matplotlib.pyplot as plt\n",
    "    %matplotlib inline\n",
    "except:\n",
    "    pass\n",
    "\n",
    "try:\n",
    "    import pandas as pd\n",
    "    print(\"  pandas: %s\"% pd.__version__)\n",
    "except:\n",
    "    print(\"Missing pandas package\")"
   ]
  },
  {
   "cell_type": "code",
   "execution_count": 2,
   "metadata": {
    "collapsed": true
   },
   "outputs": [],
   "source": [
    "### ONLY FOR GRADING. DO NOT EDIT ### \n",
    "submissions=dict()\n",
    "assignment_key=\"BBz-XobeEeegARIApDSa9g\" \n",
    "all_parts=[\"nvDA9\", \"ykDlW\", \"rpYVm\",\"oWy6l\",\"MWWt7\",\"3VyJD\"]\n",
    "### ONLY FOR GRADING. DO NOT EDIT ###"
   ]
  },
  {
   "cell_type": "code",
   "execution_count": 69,
   "metadata": {
    "collapsed": true
   },
   "outputs": [],
   "source": [
    "COURSERA_TOKEN = \"iARbME0XYsBG4cII\"  # the key provided to the Student under his/her email on submission page\n",
    "COURSERA_EMAIL =  \"hclee333@me.com\"  # the email"
   ]
  },
  {
   "cell_type": "code",
   "execution_count": 4,
   "metadata": {},
   "outputs": [
    {
     "name": "stdout",
     "output_type": "stream",
     "text": [
      "Asset prices shape (3493, 419)\n"
     ]
    },
    {
     "data": {
      "text/html": [
       "<div>\n",
       "<table border=\"1\" class=\"dataframe\">\n",
       "  <thead>\n",
       "    <tr style=\"text-align: right;\">\n",
       "      <th></th>\n",
       "      <th>A</th>\n",
       "      <th>AA</th>\n",
       "      <th>AAPL</th>\n",
       "      <th>ABC</th>\n",
       "      <th>ABT</th>\n",
       "      <th>ADBE</th>\n",
       "      <th>ADI</th>\n",
       "      <th>ADM</th>\n",
       "      <th>ADP</th>\n",
       "      <th>ADSK</th>\n",
       "      <th>AEE</th>\n",
       "      <th>AEP</th>\n",
       "    </tr>\n",
       "  </thead>\n",
       "  <tbody>\n",
       "    <tr>\n",
       "      <th>2000-01-27</th>\n",
       "      <td>46.1112</td>\n",
       "      <td>78.9443</td>\n",
       "      <td>3.9286</td>\n",
       "      <td>4.5485</td>\n",
       "      <td>13.7898</td>\n",
       "      <td>15.6719</td>\n",
       "      <td>48.0313</td>\n",
       "      <td>10.8844</td>\n",
       "      <td>39.5477</td>\n",
       "      <td>8.1250</td>\n",
       "      <td>32.9375</td>\n",
       "      <td>33.5625</td>\n",
       "    </tr>\n",
       "    <tr>\n",
       "      <th>2000-01-28</th>\n",
       "      <td>45.8585</td>\n",
       "      <td>77.8245</td>\n",
       "      <td>3.6295</td>\n",
       "      <td>4.5485</td>\n",
       "      <td>14.2653</td>\n",
       "      <td>14.3906</td>\n",
       "      <td>47.7500</td>\n",
       "      <td>10.7143</td>\n",
       "      <td>38.5627</td>\n",
       "      <td>7.7188</td>\n",
       "      <td>32.3125</td>\n",
       "      <td>33.0000</td>\n",
       "    </tr>\n",
       "    <tr>\n",
       "      <th>2000-01-31</th>\n",
       "      <td>44.5952</td>\n",
       "      <td>78.0345</td>\n",
       "      <td>3.7054</td>\n",
       "      <td>4.3968</td>\n",
       "      <td>14.5730</td>\n",
       "      <td>13.7656</td>\n",
       "      <td>46.7500</td>\n",
       "      <td>10.6576</td>\n",
       "      <td>37.3807</td>\n",
       "      <td>7.6406</td>\n",
       "      <td>32.5625</td>\n",
       "      <td>33.5000</td>\n",
       "    </tr>\n",
       "    <tr>\n",
       "      <th>2000-02-01</th>\n",
       "      <td>47.8377</td>\n",
       "      <td>80.7640</td>\n",
       "      <td>3.5804</td>\n",
       "      <td>4.5333</td>\n",
       "      <td>14.7128</td>\n",
       "      <td>13.9688</td>\n",
       "      <td>49.0000</td>\n",
       "      <td>10.8844</td>\n",
       "      <td>37.9717</td>\n",
       "      <td>7.9219</td>\n",
       "      <td>32.5625</td>\n",
       "      <td>33.6875</td>\n",
       "    </tr>\n",
       "    <tr>\n",
       "      <th>2000-02-02</th>\n",
       "      <td>51.5434</td>\n",
       "      <td>83.4934</td>\n",
       "      <td>3.5290</td>\n",
       "      <td>4.5788</td>\n",
       "      <td>14.7968</td>\n",
       "      <td>15.3281</td>\n",
       "      <td>48.1250</td>\n",
       "      <td>10.6576</td>\n",
       "      <td>35.9032</td>\n",
       "      <td>7.9688</td>\n",
       "      <td>32.5625</td>\n",
       "      <td>33.6250</td>\n",
       "    </tr>\n",
       "  </tbody>\n",
       "</table>\n",
       "</div>"
      ],
      "text/plain": [
       "                  A       AA    AAPL     ABC      ABT     ADBE      ADI  \\\n",
       "2000-01-27  46.1112  78.9443  3.9286  4.5485  13.7898  15.6719  48.0313   \n",
       "2000-01-28  45.8585  77.8245  3.6295  4.5485  14.2653  14.3906  47.7500   \n",
       "2000-01-31  44.5952  78.0345  3.7054  4.3968  14.5730  13.7656  46.7500   \n",
       "2000-02-01  47.8377  80.7640  3.5804  4.5333  14.7128  13.9688  49.0000   \n",
       "2000-02-02  51.5434  83.4934  3.5290  4.5788  14.7968  15.3281  48.1250   \n",
       "\n",
       "                ADM      ADP    ADSK      AEE      AEP  \n",
       "2000-01-27  10.8844  39.5477  8.1250  32.9375  33.5625  \n",
       "2000-01-28  10.7143  38.5627  7.7188  32.3125  33.0000  \n",
       "2000-01-31  10.6576  37.3807  7.6406  32.5625  33.5000  \n",
       "2000-02-01  10.8844  37.9717  7.9219  32.5625  33.6875  \n",
       "2000-02-02  10.6576  35.9032  7.9688  32.5625  33.6250  "
      ]
     },
     "execution_count": 4,
     "metadata": {},
     "output_type": "execute_result"
    }
   ],
   "source": [
    "# load dataset\n",
    "asset_prices = pd.read_csv('/home/jovyan/work/readonly/spx_holdings_and_spx_closeprice.csv',\n",
    "                     date_parser=lambda dt: pd.to_datetime(dt, format='%Y-%m-%d'),\n",
    "                     index_col = 0).dropna()\n",
    "n_stocks_show = 12\n",
    "print('Asset prices shape', asset_prices.shape)\n",
    "asset_prices.iloc[:, :n_stocks_show].head()"
   ]
  },
  {
   "cell_type": "code",
   "execution_count": 5,
   "metadata": {},
   "outputs": [
    {
     "name": "stdout",
     "output_type": "stream",
     "text": [
      "Last column contains SPX index prices:\n"
     ]
    },
    {
     "data": {
      "text/html": [
       "<div>\n",
       "<table border=\"1\" class=\"dataframe\">\n",
       "  <thead>\n",
       "    <tr style=\"text-align: right;\">\n",
       "      <th></th>\n",
       "      <th>STJ</th>\n",
       "      <th>SVU</th>\n",
       "      <th>SWY</th>\n",
       "      <th>TEG</th>\n",
       "      <th>TER</th>\n",
       "      <th>TGNA</th>\n",
       "      <th>THC</th>\n",
       "      <th>X</th>\n",
       "      <th>MAR.1</th>\n",
       "      <th>SPX</th>\n",
       "    </tr>\n",
       "  </thead>\n",
       "  <tbody>\n",
       "    <tr>\n",
       "      <th>2000-01-27</th>\n",
       "      <td>5.5918</td>\n",
       "      <td>86.6178</td>\n",
       "      <td>26.3983</td>\n",
       "      <td>11.3873</td>\n",
       "      <td>65.8677</td>\n",
       "      <td>22.1921</td>\n",
       "      <td>60.9705</td>\n",
       "      <td>20.7086</td>\n",
       "      <td>12.2457</td>\n",
       "      <td>1398.56</td>\n",
       "    </tr>\n",
       "    <tr>\n",
       "      <th>2000-01-28</th>\n",
       "      <td>5.4520</td>\n",
       "      <td>82.4218</td>\n",
       "      <td>27.4137</td>\n",
       "      <td>11.2230</td>\n",
       "      <td>60.3487</td>\n",
       "      <td>21.7558</td>\n",
       "      <td>62.3032</td>\n",
       "      <td>20.1183</td>\n",
       "      <td>12.0742</td>\n",
       "      <td>1360.16</td>\n",
       "    </tr>\n",
       "    <tr>\n",
       "      <th>2000-01-31</th>\n",
       "      <td>5.5499</td>\n",
       "      <td>86.3181</td>\n",
       "      <td>28.2444</td>\n",
       "      <td>11.0862</td>\n",
       "      <td>62.1484</td>\n",
       "      <td>22.0533</td>\n",
       "      <td>60.6373</td>\n",
       "      <td>19.5772</td>\n",
       "      <td>12.1722</td>\n",
       "      <td>1394.46</td>\n",
       "    </tr>\n",
       "    <tr>\n",
       "      <th>2000-02-01</th>\n",
       "      <td>5.4240</td>\n",
       "      <td>83.0212</td>\n",
       "      <td>28.7982</td>\n",
       "      <td>11.1683</td>\n",
       "      <td>67.3674</td>\n",
       "      <td>22.2120</td>\n",
       "      <td>60.4708</td>\n",
       "      <td>19.5772</td>\n",
       "      <td>12.5151</td>\n",
       "      <td>1409.28</td>\n",
       "    </tr>\n",
       "    <tr>\n",
       "      <th>2000-02-02</th>\n",
       "      <td>5.3541</td>\n",
       "      <td>81.5226</td>\n",
       "      <td>28.6136</td>\n",
       "      <td>11.1956</td>\n",
       "      <td>68.9271</td>\n",
       "      <td>22.6483</td>\n",
       "      <td>62.4698</td>\n",
       "      <td>19.5281</td>\n",
       "      <td>12.3192</td>\n",
       "      <td>1409.12</td>\n",
       "    </tr>\n",
       "  </tbody>\n",
       "</table>\n",
       "</div>"
      ],
      "text/plain": [
       "               STJ      SVU      SWY      TEG      TER     TGNA      THC  \\\n",
       "2000-01-27  5.5918  86.6178  26.3983  11.3873  65.8677  22.1921  60.9705   \n",
       "2000-01-28  5.4520  82.4218  27.4137  11.2230  60.3487  21.7558  62.3032   \n",
       "2000-01-31  5.5499  86.3181  28.2444  11.0862  62.1484  22.0533  60.6373   \n",
       "2000-02-01  5.4240  83.0212  28.7982  11.1683  67.3674  22.2120  60.4708   \n",
       "2000-02-02  5.3541  81.5226  28.6136  11.1956  68.9271  22.6483  62.4698   \n",
       "\n",
       "                  X    MAR.1      SPX  \n",
       "2000-01-27  20.7086  12.2457  1398.56  \n",
       "2000-01-28  20.1183  12.0742  1360.16  \n",
       "2000-01-31  19.5772  12.1722  1394.46  \n",
       "2000-02-01  19.5772  12.5151  1409.28  \n",
       "2000-02-02  19.5281  12.3192  1409.12  "
      ]
     },
     "execution_count": 5,
     "metadata": {},
     "output_type": "execute_result"
    }
   ],
   "source": [
    "print('Last column contains SPX index prices:')\n",
    "asset_prices.iloc[:, -10:].head()"
   ]
  },
  {
   "cell_type": "markdown",
   "metadata": {},
   "source": [
    "#### Part 1 (Asset Returns Calculation)\n",
    "**Instructions:**\n",
    "\n",
    "Calculate percent returns, also known as simple returns using asse_prices. assign the result to variable asset_returns. Keep only not-nan values in the resulting pandas.DataFrame\n",
    "\n",
    "Calculate de-meaned returns and scale them by standard deviation $\\sigma$. Assign result to normed_returns variable"
   ]
  },
  {
   "cell_type": "markdown",
   "metadata": {},
   "source": [
    "We now compute stock returns and normalize stock returns data by subtracting the mean and dividing by standard diviation. This normalization is required by PCA."
   ]
  },
  {
   "cell_type": "code",
   "execution_count": 6,
   "metadata": {
    "scrolled": true
   },
   "outputs": [
    {
     "data": {
      "text/html": [
       "<div>\n",
       "<table border=\"1\" class=\"dataframe\">\n",
       "  <thead>\n",
       "    <tr style=\"text-align: right;\">\n",
       "      <th></th>\n",
       "      <th>STJ</th>\n",
       "      <th>SVU</th>\n",
       "      <th>SWY</th>\n",
       "      <th>TEG</th>\n",
       "      <th>TER</th>\n",
       "      <th>TGNA</th>\n",
       "      <th>THC</th>\n",
       "      <th>X</th>\n",
       "      <th>MAR.1</th>\n",
       "      <th>SPX</th>\n",
       "    </tr>\n",
       "  </thead>\n",
       "  <tbody>\n",
       "    <tr>\n",
       "      <th>2013-12-16</th>\n",
       "      <td>0.852722</td>\n",
       "      <td>0.965219</td>\n",
       "      <td>-1.168885</td>\n",
       "      <td>0.884751</td>\n",
       "      <td>0.095865</td>\n",
       "      <td>0.656639</td>\n",
       "      <td>0.180014</td>\n",
       "      <td>-0.238498</td>\n",
       "      <td>0.465047</td>\n",
       "      <td>0.467931</td>\n",
       "    </tr>\n",
       "    <tr>\n",
       "      <th>2013-12-17</th>\n",
       "      <td>0.275173</td>\n",
       "      <td>0.517307</td>\n",
       "      <td>-0.086106</td>\n",
       "      <td>-0.306213</td>\n",
       "      <td>0.589689</td>\n",
       "      <td>-0.118610</td>\n",
       "      <td>-0.549523</td>\n",
       "      <td>0.025268</td>\n",
       "      <td>-0.260013</td>\n",
       "      <td>-0.247921</td>\n",
       "    </tr>\n",
       "    <tr>\n",
       "      <th>2013-12-18</th>\n",
       "      <td>0.864485</td>\n",
       "      <td>0.509435</td>\n",
       "      <td>0.600714</td>\n",
       "      <td>1.210605</td>\n",
       "      <td>-0.190024</td>\n",
       "      <td>0.925461</td>\n",
       "      <td>0.756998</td>\n",
       "      <td>0.058428</td>\n",
       "      <td>0.952458</td>\n",
       "      <td>1.252703</td>\n",
       "    </tr>\n",
       "    <tr>\n",
       "      <th>2013-12-19</th>\n",
       "      <td>0.210069</td>\n",
       "      <td>0.399574</td>\n",
       "      <td>-0.100159</td>\n",
       "      <td>-0.757419</td>\n",
       "      <td>-0.208023</td>\n",
       "      <td>0.304913</td>\n",
       "      <td>-0.772205</td>\n",
       "      <td>1.544228</td>\n",
       "      <td>-0.167775</td>\n",
       "      <td>-0.056358</td>\n",
       "    </tr>\n",
       "    <tr>\n",
       "      <th>2013-12-20</th>\n",
       "      <td>0.827306</td>\n",
       "      <td>0.748420</td>\n",
       "      <td>0.372443</td>\n",
       "      <td>1.048113</td>\n",
       "      <td>0.264046</td>\n",
       "      <td>0.436874</td>\n",
       "      <td>0.320641</td>\n",
       "      <td>-0.740854</td>\n",
       "      <td>0.373717</td>\n",
       "      <td>0.353859</td>\n",
       "    </tr>\n",
       "  </tbody>\n",
       "</table>\n",
       "</div>"
      ],
      "text/plain": [
       "                 STJ       SVU       SWY       TEG       TER      TGNA  \\\n",
       "2013-12-16  0.852722  0.965219 -1.168885  0.884751  0.095865  0.656639   \n",
       "2013-12-17  0.275173  0.517307 -0.086106 -0.306213  0.589689 -0.118610   \n",
       "2013-12-18  0.864485  0.509435  0.600714  1.210605 -0.190024  0.925461   \n",
       "2013-12-19  0.210069  0.399574 -0.100159 -0.757419 -0.208023  0.304913   \n",
       "2013-12-20  0.827306  0.748420  0.372443  1.048113  0.264046  0.436874   \n",
       "\n",
       "                 THC         X     MAR.1       SPX  \n",
       "2013-12-16  0.180014 -0.238498  0.465047  0.467931  \n",
       "2013-12-17 -0.549523  0.025268 -0.260013 -0.247921  \n",
       "2013-12-18  0.756998  0.058428  0.952458  1.252703  \n",
       "2013-12-19 -0.772205  1.544228 -0.167775 -0.056358  \n",
       "2013-12-20  0.320641 -0.740854  0.373717  0.353859  "
      ]
     },
     "execution_count": 6,
     "metadata": {},
     "output_type": "execute_result"
    }
   ],
   "source": [
    "asset_returns = pd.DataFrame(data=np.zeros(shape=(len(asset_prices.index), asset_prices.shape[1])), \n",
    "                             columns=asset_prices.columns.values,\n",
    "                             index=asset_prices.index)\n",
    "normed_returns = asset_returns\n",
    "### START CODE HERE ### (≈ 4 lines of code)\n",
    "# normed_returns is pandas.DataFrame that should contain normalized returns\n",
    "prev_row=0\n",
    "for index, row in asset_prices.iterrows():\n",
    "    if index == 0:\n",
    "        prev_row = row\n",
    "    else:\n",
    "        dif = row - prev_row\n",
    "        returns = dif / prev_row\n",
    "        asset_returns.loc[index]= returns\n",
    "        prev_row = row \n",
    "        \n",
    "\n",
    "asset_returns = asset_returns.drop(asset_returns.index[0], axis=0)\n",
    "normed_returns=(asset_returns - asset_returns.mean())/asset_returns.std()\n",
    "### END CODE HERE ###\n",
    "\n",
    "normed_returns.iloc[-5:, -10:].head()"
   ]
  },
  {
   "cell_type": "code",
   "execution_count": 7,
   "metadata": {},
   "outputs": [
    {
     "data": {
      "text/html": [
       "<div>\n",
       "<table border=\"1\" class=\"dataframe\">\n",
       "  <thead>\n",
       "    <tr style=\"text-align: right;\">\n",
       "      <th></th>\n",
       "      <th>A</th>\n",
       "      <th>AA</th>\n",
       "      <th>AAPL</th>\n",
       "      <th>ABC</th>\n",
       "      <th>ABT</th>\n",
       "      <th>ADBE</th>\n",
       "      <th>ADI</th>\n",
       "      <th>ADM</th>\n",
       "      <th>ADP</th>\n",
       "      <th>ADSK</th>\n",
       "      <th>...</th>\n",
       "      <th>STJ</th>\n",
       "      <th>SVU</th>\n",
       "      <th>SWY</th>\n",
       "      <th>TEG</th>\n",
       "      <th>TER</th>\n",
       "      <th>TGNA</th>\n",
       "      <th>THC</th>\n",
       "      <th>X</th>\n",
       "      <th>MAR.1</th>\n",
       "      <th>SPX</th>\n",
       "    </tr>\n",
       "  </thead>\n",
       "  <tbody>\n",
       "    <tr>\n",
       "      <th>2000-01-28</th>\n",
       "      <td>-0.190054</td>\n",
       "      <td>-0.513710</td>\n",
       "      <td>-2.714709</td>\n",
       "      <td>-0.049779</td>\n",
       "      <td>2.182933</td>\n",
       "      <td>-2.684131</td>\n",
       "      <td>-0.212461</td>\n",
       "      <td>-0.766996</td>\n",
       "      <td>-1.540731</td>\n",
       "      <td>-1.803947</td>\n",
       "      <td>...</td>\n",
       "      <td>-1.280756</td>\n",
       "      <td>-1.690468</td>\n",
       "      <td>1.853435</td>\n",
       "      <td>-1.032223</td>\n",
       "      <td>-2.354104</td>\n",
       "      <td>-0.735242</td>\n",
       "      <td>0.619711</td>\n",
       "      <td>-0.873112</td>\n",
       "      <td>-0.652514</td>\n",
       "      <td>-2.098603</td>\n",
       "    </tr>\n",
       "    <tr>\n",
       "      <th>2000-01-31</th>\n",
       "      <td>-0.898232</td>\n",
       "      <td>0.096888</td>\n",
       "      <td>0.688156</td>\n",
       "      <td>-1.757230</td>\n",
       "      <td>1.355644</td>\n",
       "      <td>-1.438899</td>\n",
       "      <td>-0.720771</td>\n",
       "      <td>-0.279098</td>\n",
       "      <td>-1.891884</td>\n",
       "      <td>-0.391433</td>\n",
       "      <td>...</td>\n",
       "      <td>0.845295</td>\n",
       "      <td>1.631244</td>\n",
       "      <td>1.457667</td>\n",
       "      <td>-0.877804</td>\n",
       "      <td>0.828987</td>\n",
       "      <td>0.498547</td>\n",
       "      <td>-0.789312</td>\n",
       "      <td>-0.824893</td>\n",
       "      <td>0.333856</td>\n",
       "      <td>1.903871</td>\n",
       "    </tr>\n",
       "    <tr>\n",
       "      <th>2000-02-01</th>\n",
       "      <td>2.319164</td>\n",
       "      <td>1.264327</td>\n",
       "      <td>-1.227995</td>\n",
       "      <td>1.539597</td>\n",
       "      <td>0.588289</td>\n",
       "      <td>0.451774</td>\n",
       "      <td>1.606541</td>\n",
       "      <td>0.975244</td>\n",
       "      <td>0.948126</td>\n",
       "      <td>1.272129</td>\n",
       "      <td>...</td>\n",
       "      <td>-1.166142</td>\n",
       "      <td>-1.334823</td>\n",
       "      <td>0.939094</td>\n",
       "      <td>0.473545</td>\n",
       "      <td>2.346267</td>\n",
       "      <td>0.258770</td>\n",
       "      <td>-0.093661</td>\n",
       "      <td>-0.018944</td>\n",
       "      <td>1.228056</td>\n",
       "      <td>0.795259</td>\n",
       "    </tr>\n",
       "    <tr>\n",
       "      <th>2000-02-02</th>\n",
       "      <td>2.471738</td>\n",
       "      <td>1.221529</td>\n",
       "      <td>-0.548494</td>\n",
       "      <td>0.464060</td>\n",
       "      <td>0.339454</td>\n",
       "      <td>3.133764</td>\n",
       "      <td>-0.616815</td>\n",
       "      <td>-1.012898</td>\n",
       "      <td>-3.348109</td>\n",
       "      <td>0.177340</td>\n",
       "      <td>...</td>\n",
       "      <td>-0.681225</td>\n",
       "      <td>-0.635746</td>\n",
       "      <td>-0.322437</td>\n",
       "      <td>0.131399</td>\n",
       "      <td>0.642124</td>\n",
       "      <td>0.719436</td>\n",
       "      <td>0.944422</td>\n",
       "      <td>-0.094098</td>\n",
       "      <td>-0.726004</td>\n",
       "      <td>-0.020920</td>\n",
       "    </tr>\n",
       "    <tr>\n",
       "      <th>2000-02-03</th>\n",
       "      <td>0.510174</td>\n",
       "      <td>-1.122380</td>\n",
       "      <td>1.551619</td>\n",
       "      <td>-0.388563</td>\n",
       "      <td>0.336944</td>\n",
       "      <td>4.078966</td>\n",
       "      <td>3.310577</td>\n",
       "      <td>-0.029293</td>\n",
       "      <td>4.090396</td>\n",
       "      <td>1.217955</td>\n",
       "      <td>...</td>\n",
       "      <td>1.248858</td>\n",
       "      <td>-0.392056</td>\n",
       "      <td>-0.324442</td>\n",
       "      <td>0.974903</td>\n",
       "      <td>1.334599</td>\n",
       "      <td>0.219252</td>\n",
       "      <td>-0.632596</td>\n",
       "      <td>-0.471922</td>\n",
       "      <td>1.124028</td>\n",
       "      <td>0.842399</td>\n",
       "    </tr>\n",
       "  </tbody>\n",
       "</table>\n",
       "<p>5 rows × 419 columns</p>\n",
       "</div>"
      ],
      "text/plain": [
       "                   A        AA      AAPL       ABC       ABT      ADBE  \\\n",
       "2000-01-28 -0.190054 -0.513710 -2.714709 -0.049779  2.182933 -2.684131   \n",
       "2000-01-31 -0.898232  0.096888  0.688156 -1.757230  1.355644 -1.438899   \n",
       "2000-02-01  2.319164  1.264327 -1.227995  1.539597  0.588289  0.451774   \n",
       "2000-02-02  2.471738  1.221529 -0.548494  0.464060  0.339454  3.133764   \n",
       "2000-02-03  0.510174 -1.122380  1.551619 -0.388563  0.336944  4.078966   \n",
       "\n",
       "                 ADI       ADM       ADP      ADSK    ...          STJ  \\\n",
       "2000-01-28 -0.212461 -0.766996 -1.540731 -1.803947    ...    -1.280756   \n",
       "2000-01-31 -0.720771 -0.279098 -1.891884 -0.391433    ...     0.845295   \n",
       "2000-02-01  1.606541  0.975244  0.948126  1.272129    ...    -1.166142   \n",
       "2000-02-02 -0.616815 -1.012898 -3.348109  0.177340    ...    -0.681225   \n",
       "2000-02-03  3.310577 -0.029293  4.090396  1.217955    ...     1.248858   \n",
       "\n",
       "                 SVU       SWY       TEG       TER      TGNA       THC  \\\n",
       "2000-01-28 -1.690468  1.853435 -1.032223 -2.354104 -0.735242  0.619711   \n",
       "2000-01-31  1.631244  1.457667 -0.877804  0.828987  0.498547 -0.789312   \n",
       "2000-02-01 -1.334823  0.939094  0.473545  2.346267  0.258770 -0.093661   \n",
       "2000-02-02 -0.635746 -0.322437  0.131399  0.642124  0.719436  0.944422   \n",
       "2000-02-03 -0.392056 -0.324442  0.974903  1.334599  0.219252 -0.632596   \n",
       "\n",
       "                   X     MAR.1       SPX  \n",
       "2000-01-28 -0.873112 -0.652514 -2.098603  \n",
       "2000-01-31 -0.824893  0.333856  1.903871  \n",
       "2000-02-01 -0.018944  1.228056  0.795259  \n",
       "2000-02-02 -0.094098 -0.726004 -0.020920  \n",
       "2000-02-03 -0.471922  1.124028  0.842399  \n",
       "\n",
       "[5 rows x 419 columns]"
      ]
     },
     "execution_count": 7,
     "metadata": {},
     "output_type": "execute_result"
    }
   ],
   "source": [
    "normed_returns.head()"
   ]
  },
  {
   "cell_type": "code",
   "execution_count": 8,
   "metadata": {},
   "outputs": [
    {
     "name": "stdout",
     "output_type": "stream",
     "text": [
      "Submission successful, please check on the coursera grader page for the status\n"
     ]
    },
    {
     "data": {
      "text/plain": [
       "array([-0.19005437, -0.51371017, -2.71470869, -0.04977943,  2.18293305,\n",
       "       -2.68413088, -0.21246093, -0.76699639, -1.5407309 , -1.80394666,\n",
       "       -1.37299129, -0.99416907,  0.16136183,  0.72980366,  0.63485621,\n",
       "       -0.72131907, -0.01302927, -0.80797756,  0.39923062, -0.75893259,\n",
       "       -1.43444651, -1.12783867, -1.29385343, -0.44802859, -2.13973399,\n",
       "        0.58949813, -0.87826364,  0.31428572, -1.08060243, -0.31367868,\n",
       "        0.11819333, -1.8686777 , -1.87275168, -0.22608376, -0.04189121,\n",
       "       -0.02136145, -0.60458719, -1.43087396, -1.16679677, -1.65594274,\n",
       "       -0.50493241, -1.5196492 , -0.36359946, -0.58859176, -0.73289901,\n",
       "        0.87654672, -3.12410596, -1.33977245, -1.33866029, -0.53051976,\n",
       "       -1.28309222, -2.2171311 ,  1.75785074,  0.22815795, -0.48093428,\n",
       "       -0.21160476, -1.39163378, -1.8907977 , -1.26523275, -0.90790361,\n",
       "        1.20007622, -1.13783598, -1.06735573, -1.49029484,  1.65191927,\n",
       "       -0.94841616,  3.36936561, -0.82344479,  1.76591258,  0.0414378 ,\n",
       "       -2.73686257, -0.93544592,  0.02499427, -0.52726361, -0.34692757,\n",
       "       -3.31744267, -1.10532688, -0.797565  , -0.45450193,  1.58036671,\n",
       "       -1.05535759, -0.19732619, -0.85221605, -3.09447476, -2.41199636,\n",
       "       -0.9392503 , -1.88367011, -2.73709342, -2.97077299, -0.52321504,\n",
       "       -0.7113052 ,  2.02582123, -1.26160414, -3.24554378, -1.04361909,\n",
       "       -0.21374985,  0.86653839, -0.53475603,  0.92652973, -0.51024788])"
      ]
     },
     "execution_count": 8,
     "metadata": {},
     "output_type": "execute_result"
    }
   ],
   "source": [
    "### GRADED PART (DO NOT EDIT) ###\n",
    "part_1=list(normed_returns.iloc[0,: 100].as_matrix().squeeze())\n",
    "try:\n",
    "    part1 = \" \".join(map(repr, part_1))\n",
    "except TypeError:\n",
    "    part1 = repr(part_1)\n",
    "submissions[all_parts[0]]=part1\n",
    "grading.submit(COURSERA_EMAIL, COURSERA_TOKEN, assignment_key,all_parts[:1],all_parts,submissions)\n",
    "normed_returns.iloc[0,: 100].as_matrix().squeeze()\n",
    "### GRADED PART (DO NOT EDIT) ###"
   ]
  },
  {
   "cell_type": "code",
   "execution_count": 9,
   "metadata": {},
   "outputs": [
    {
     "name": "stdout",
     "output_type": "stream",
     "text": [
      "Train dataset: (3055, 419)\n",
      "Test dataset: (437, 419)\n"
     ]
    }
   ],
   "source": [
    "train_end = datetime.datetime(2012, 3, 26) \n",
    "\n",
    "df_train = None\n",
    "df_test = None\n",
    "df_raw_train = None\n",
    "df_raw_test = None\n",
    "\n",
    "df_train = normed_returns[normed_returns.index <= train_end].copy()\n",
    "df_test = normed_returns[normed_returns.index > train_end].copy()\n",
    "\n",
    "df_raw_train = asset_returns[asset_returns.index <= train_end].copy()\n",
    "df_raw_test = asset_returns[asset_returns.index > train_end].copy()\n",
    "\n",
    "print('Train dataset:', df_train.shape)\n",
    "print('Test dataset:', df_test.shape)"
   ]
  },
  {
   "cell_type": "code",
   "execution_count": 10,
   "metadata": {},
   "outputs": [
    {
     "data": {
      "text/html": [
       "<div>\n",
       "<table border=\"1\" class=\"dataframe\">\n",
       "  <thead>\n",
       "    <tr style=\"text-align: right;\">\n",
       "      <th></th>\n",
       "      <th>A</th>\n",
       "      <th>AA</th>\n",
       "      <th>AAPL</th>\n",
       "      <th>ABC</th>\n",
       "      <th>ABT</th>\n",
       "      <th>ADBE</th>\n",
       "      <th>ADI</th>\n",
       "      <th>ADM</th>\n",
       "      <th>ADP</th>\n",
       "      <th>ADSK</th>\n",
       "      <th>...</th>\n",
       "      <th>STJ</th>\n",
       "      <th>SVU</th>\n",
       "      <th>SWY</th>\n",
       "      <th>TEG</th>\n",
       "      <th>TER</th>\n",
       "      <th>TGNA</th>\n",
       "      <th>THC</th>\n",
       "      <th>X</th>\n",
       "      <th>MAR.1</th>\n",
       "      <th>SPX</th>\n",
       "    </tr>\n",
       "  </thead>\n",
       "  <tbody>\n",
       "    <tr>\n",
       "      <th>2000-01-28</th>\n",
       "      <td>-0.005480</td>\n",
       "      <td>-0.014185</td>\n",
       "      <td>-0.076134</td>\n",
       "      <td>0.000000</td>\n",
       "      <td>0.034482</td>\n",
       "      <td>-0.081758</td>\n",
       "      <td>-0.005857</td>\n",
       "      <td>-0.015628</td>\n",
       "      <td>-0.024907</td>\n",
       "      <td>-0.049994</td>\n",
       "      <td>...</td>\n",
       "      <td>-0.025001</td>\n",
       "      <td>-0.048443</td>\n",
       "      <td>0.038465</td>\n",
       "      <td>-0.014428</td>\n",
       "      <td>-0.083789</td>\n",
       "      <td>-0.019660</td>\n",
       "      <td>0.021858</td>\n",
       "      <td>-0.028505</td>\n",
       "      <td>-0.014005</td>\n",
       "      <td>-0.027457</td>\n",
       "    </tr>\n",
       "    <tr>\n",
       "      <th>2000-01-31</th>\n",
       "      <td>-0.027548</td>\n",
       "      <td>0.002698</td>\n",
       "      <td>0.020912</td>\n",
       "      <td>-0.033352</td>\n",
       "      <td>0.021570</td>\n",
       "      <td>-0.043431</td>\n",
       "      <td>-0.020942</td>\n",
       "      <td>-0.005292</td>\n",
       "      <td>-0.030651</td>\n",
       "      <td>-0.010131</td>\n",
       "      <td>...</td>\n",
       "      <td>0.017957</td>\n",
       "      <td>0.047273</td>\n",
       "      <td>0.030302</td>\n",
       "      <td>-0.012189</td>\n",
       "      <td>0.029822</td>\n",
       "      <td>0.013675</td>\n",
       "      <td>-0.026739</td>\n",
       "      <td>-0.026896</td>\n",
       "      <td>0.008116</td>\n",
       "      <td>0.025218</td>\n",
       "    </tr>\n",
       "    <tr>\n",
       "      <th>2000-02-01</th>\n",
       "      <td>0.072710</td>\n",
       "      <td>0.034978</td>\n",
       "      <td>-0.033735</td>\n",
       "      <td>0.031045</td>\n",
       "      <td>0.009593</td>\n",
       "      <td>0.014761</td>\n",
       "      <td>0.048128</td>\n",
       "      <td>0.021281</td>\n",
       "      <td>0.015810</td>\n",
       "      <td>0.036816</td>\n",
       "      <td>...</td>\n",
       "      <td>-0.022685</td>\n",
       "      <td>-0.038195</td>\n",
       "      <td>0.019607</td>\n",
       "      <td>0.007406</td>\n",
       "      <td>0.083976</td>\n",
       "      <td>0.007196</td>\n",
       "      <td>-0.002746</td>\n",
       "      <td>0.000000</td>\n",
       "      <td>0.028171</td>\n",
       "      <td>0.010628</td>\n",
       "    </tr>\n",
       "    <tr>\n",
       "      <th>2000-02-02</th>\n",
       "      <td>0.077464</td>\n",
       "      <td>0.033795</td>\n",
       "      <td>-0.014356</td>\n",
       "      <td>0.010037</td>\n",
       "      <td>0.005709</td>\n",
       "      <td>0.097310</td>\n",
       "      <td>-0.017857</td>\n",
       "      <td>-0.020837</td>\n",
       "      <td>-0.054475</td>\n",
       "      <td>0.005920</td>\n",
       "      <td>...</td>\n",
       "      <td>-0.012887</td>\n",
       "      <td>-0.018051</td>\n",
       "      <td>-0.006410</td>\n",
       "      <td>0.002444</td>\n",
       "      <td>0.023152</td>\n",
       "      <td>0.019643</td>\n",
       "      <td>0.033057</td>\n",
       "      <td>-0.002508</td>\n",
       "      <td>-0.015653</td>\n",
       "      <td>-0.000114</td>\n",
       "    </tr>\n",
       "    <tr>\n",
       "      <th>2000-02-03</th>\n",
       "      <td>0.016340</td>\n",
       "      <td>-0.031014</td>\n",
       "      <td>0.045537</td>\n",
       "      <td>-0.006617</td>\n",
       "      <td>0.005670</td>\n",
       "      <td>0.126402</td>\n",
       "      <td>0.098701</td>\n",
       "      <td>0.000000</td>\n",
       "      <td>0.067217</td>\n",
       "      <td>0.035288</td>\n",
       "      <td>...</td>\n",
       "      <td>0.026111</td>\n",
       "      <td>-0.011029</td>\n",
       "      <td>-0.006451</td>\n",
       "      <td>0.014675</td>\n",
       "      <td>0.047868</td>\n",
       "      <td>0.006128</td>\n",
       "      <td>-0.021334</td>\n",
       "      <td>-0.015117</td>\n",
       "      <td>0.025838</td>\n",
       "      <td>0.011248</td>\n",
       "    </tr>\n",
       "  </tbody>\n",
       "</table>\n",
       "<p>5 rows × 419 columns</p>\n",
       "</div>"
      ],
      "text/plain": [
       "                   A        AA      AAPL       ABC       ABT      ADBE  \\\n",
       "2000-01-28 -0.005480 -0.014185 -0.076134  0.000000  0.034482 -0.081758   \n",
       "2000-01-31 -0.027548  0.002698  0.020912 -0.033352  0.021570 -0.043431   \n",
       "2000-02-01  0.072710  0.034978 -0.033735  0.031045  0.009593  0.014761   \n",
       "2000-02-02  0.077464  0.033795 -0.014356  0.010037  0.005709  0.097310   \n",
       "2000-02-03  0.016340 -0.031014  0.045537 -0.006617  0.005670  0.126402   \n",
       "\n",
       "                 ADI       ADM       ADP      ADSK    ...          STJ  \\\n",
       "2000-01-28 -0.005857 -0.015628 -0.024907 -0.049994    ...    -0.025001   \n",
       "2000-01-31 -0.020942 -0.005292 -0.030651 -0.010131    ...     0.017957   \n",
       "2000-02-01  0.048128  0.021281  0.015810  0.036816    ...    -0.022685   \n",
       "2000-02-02 -0.017857 -0.020837 -0.054475  0.005920    ...    -0.012887   \n",
       "2000-02-03  0.098701  0.000000  0.067217  0.035288    ...     0.026111   \n",
       "\n",
       "                 SVU       SWY       TEG       TER      TGNA       THC  \\\n",
       "2000-01-28 -0.048443  0.038465 -0.014428 -0.083789 -0.019660  0.021858   \n",
       "2000-01-31  0.047273  0.030302 -0.012189  0.029822  0.013675 -0.026739   \n",
       "2000-02-01 -0.038195  0.019607  0.007406  0.083976  0.007196 -0.002746   \n",
       "2000-02-02 -0.018051 -0.006410  0.002444  0.023152  0.019643  0.033057   \n",
       "2000-02-03 -0.011029 -0.006451  0.014675  0.047868  0.006128 -0.021334   \n",
       "\n",
       "                   X     MAR.1       SPX  \n",
       "2000-01-28 -0.028505 -0.014005 -0.027457  \n",
       "2000-01-31 -0.026896  0.008116  0.025218  \n",
       "2000-02-01  0.000000  0.028171  0.010628  \n",
       "2000-02-02 -0.002508 -0.015653 -0.000114  \n",
       "2000-02-03 -0.015117  0.025838  0.011248  \n",
       "\n",
       "[5 rows x 419 columns]"
      ]
     },
     "execution_count": 10,
     "metadata": {},
     "output_type": "execute_result"
    }
   ],
   "source": [
    "df_raw_train.head()"
   ]
  },
  {
   "cell_type": "markdown",
   "metadata": {},
   "source": [
    "Now we compute PCA using all available data. Once we do have PCA computed we fix variance explained at some number and see what is the smallest number of components needed to explain this variance."
   ]
  },
  {
   "cell_type": "markdown",
   "metadata": {},
   "source": [
    "#### Part 2 (PCA fitting)\n",
    "**Instructions:**\n",
    "- Calculate covariance matrix using training data set, i.e. **df_train** for all assets.  Assign results to **cov_matrix**.\n",
    "- Calculate covariance matrix using training data set, i.e. **df_raw_train** for all assets.  Assign results to **cov_matrix_raw**.\n",
    "- Use scikit-learn PCA to fit PCA model to **cov_matrix**. Assign fitted model to **pca**"
   ]
  },
  {
   "cell_type": "code",
   "execution_count": 11,
   "metadata": {
    "collapsed": true
   },
   "outputs": [],
   "source": [
    "import sklearn.decomposition\n",
    "import seaborn as sns\n",
    "\n",
    "stock_tickers = normed_returns.columns.values[:-1]\n",
    "assert 'SPX' not in stock_tickers, \"By accident included SPX index\""
   ]
  },
  {
   "cell_type": "code",
   "execution_count": 12,
   "metadata": {},
   "outputs": [
    {
     "data": {
      "text/plain": [
       "array(['A', 'AA', 'AAPL', 'ABC', 'ABT', 'ADBE', 'ADI', 'ADM', 'ADP',\n",
       "       'ADSK', 'AEE', 'AEP', 'AES', 'AFL', 'AGN', 'AIG', 'AIV', 'AKAM',\n",
       "       'AKS', 'ALL', 'AMAT', 'AMD', 'AMGN', 'AMT', 'AMZN', 'AN', 'ANDV',\n",
       "       'ANF', 'AON', 'APA', 'APC', 'APD', 'APH', 'APOL', 'ARG', 'ATGE',\n",
       "       'AVB', 'AVY', 'AXP', 'AZO', 'BA', 'BAC', 'BAX', 'BBT', 'BBY', 'BCR',\n",
       "       'BDX', 'BEN', 'BHGE', 'BIIB', 'BK', 'BLL', 'BMY', 'BRCM', 'BSX',\n",
       "       'BXP', 'C', 'CA', 'CAG', 'CAH', 'CAM', 'CAT', 'CB', 'CBS', 'CCL',\n",
       "       'CELG', 'CERN', 'CHK', 'CHRW', 'CI', 'CINF', 'CL', 'CLF', 'CLX',\n",
       "       'CMA', 'CMCSA', 'CMI', 'CMS', 'CNP', 'CNX', 'COF', 'COG', 'COP',\n",
       "       'COST', 'CPB', 'CSCO', 'CSX', 'CTAS', 'CTL', 'CTSH', 'CTXS', 'CVS',\n",
       "       'CVX', 'D', 'DE', 'DF', 'DGX', 'DHI', 'DHR', 'DIS', 'DNR', 'DO',\n",
       "       'DOV', 'DRI', 'DTE', 'DUK', 'DVA', 'DVN', 'EA', 'EBAY', 'ECL', 'ED',\n",
       "       'EFX', 'EIX', 'EL', 'EMN', 'EMR', 'EOG', 'EQR', 'EQT', 'ES', 'ESRX',\n",
       "       'ETFC', 'ETN', 'ETR', 'EXC', 'EXPD', 'F', 'FAST', 'FCX', 'FDO',\n",
       "       'FDX', 'FE', 'FFIV', 'FHN', 'FII', 'FISV', 'FITB', 'FLIR', 'FLS',\n",
       "       'FMC', 'FOXA', 'FRX', 'FTR', 'GD', 'GE', 'GHC', 'GILD', 'GIS',\n",
       "       'GLW', 'GPC', 'GPS', 'GS', 'GT', 'GWW', 'HAL', 'HAR', 'HAS', 'HBAN',\n",
       "       'HCBK', 'HCN', 'HCP', 'HD', 'HES', 'HIG', 'HOG', 'HON', 'HOT', 'HP',\n",
       "       'HPQ', 'HRB', 'HRL', 'HRS', 'HST', 'HSY', 'HUM', 'IBM', 'IFF',\n",
       "       'INTC', 'INTU', 'IP', 'IPG', 'IR', 'IRM', 'ITW', 'IVZ', 'JBL',\n",
       "       'JCI', 'JEC', 'JNJ', 'JNPR', 'JPM', 'JWN', 'K', 'KEY', 'KIM',\n",
       "       'KLAC', 'KMB', 'KMX', 'KO', 'KR', 'KSS', 'L', 'LB', 'LEG', 'LEN',\n",
       "       'LH', 'LLL', 'LLTC', 'LLY', 'LM', 'LMT', 'LNC', 'LOW', 'LUK', 'LUV',\n",
       "       'M', 'MAR', 'MAS', 'MAT', 'MCD', 'MCHP', 'MCK', 'MCO', 'MDT', 'MKC',\n",
       "       'MMC', 'MMM', 'MO', 'MRK', 'MRO', 'MS', 'MSFT', 'MSI', 'MTB', 'MU',\n",
       "       'MUR', 'MWW', 'MYL', 'NBL', 'NBR', 'NE', 'NEE', 'NEM', 'NFX', 'NI',\n",
       "       'NKE', 'NOC', 'NOV', 'NSC', 'NTAP', 'NTRS', 'NUE', 'NVDA', 'NWL',\n",
       "       'OI', 'OKE', 'OMC', 'ORCL', 'ORLY', 'OXY', 'PAYX', 'PBCT', 'PCAR',\n",
       "       'PCG', 'PCL', 'PCLN', 'PCP', 'PDCO', 'PEG', 'PEP', 'PFE', 'PG',\n",
       "       'PGR', 'PH', 'PHM', 'PKI', 'PNC', 'PNW', 'PPG', 'PPL', 'PSA', 'PWR',\n",
       "       'PX', 'PXD', 'QCOM', 'QLGC', 'RAI', 'RF', 'RHI', 'RHT', 'RL', 'ROK',\n",
       "       'ROP', 'ROST', 'RRC', 'RSG', 'RTN', 'SBUX', 'SCG', 'SCHW', 'SEE',\n",
       "       'SHW', 'SJM', 'SLB', 'SNA', 'SNDK', 'SO', 'SPG', 'SPGI', 'SRCL',\n",
       "       'SRE', 'STI', 'STR', 'STT', 'STZ', 'SUNEQ', 'SWK', 'SWN', 'SYK',\n",
       "       'SYMC', 'SYY', 'T', 'TAP', 'TGT', 'TIF', 'TJX', 'TMK', 'TMO',\n",
       "       'TROW', 'TRV', 'TSN', 'TSS', 'TWX', 'TXN', 'TXT', 'UNH', 'UNM',\n",
       "       'UNP', 'UPS', 'URBN', 'USB', 'UTX', 'VAR', 'VFC', 'VIAV', 'VLO',\n",
       "       'VMC', 'VNO', 'VRSN', 'VTR', 'VZ', 'WAT', 'WBA', 'WDC', 'WEC',\n",
       "       'WFC', 'WFM', 'WHR', 'WM', 'WMT', 'WY', 'XEL', 'XL', 'XLNX', 'XOM',\n",
       "       'XRAY', 'XRX', 'YUM', 'ZION', '1255459D', '1284849D', '1431816D',\n",
       "       '1436513D', '1448062D', '1500785D', '1519128D', '1541931D',\n",
       "       '9876544D', '9876566D', '9876641D', 'ATI', 'AVP', 'BBBY', 'BF/B',\n",
       "       'BIG', 'BMS', 'BRK/B', 'CSC', 'CVC', 'DD', 'DOW', 'EMC', 'HSH',\n",
       "       'ITT', 'JCP', 'LXK', 'MDP', 'NYT', 'ODP', 'PBI', 'PLL', 'R', 'RDC',\n",
       "       'RRD', 'RSHCQ', 'SIAL', 'SLM', 'SPLS', 'STJ', 'SVU', 'SWY', 'TEG',\n",
       "       'TER', 'TGNA', 'THC', 'X', 'MAR.1'], dtype=object)"
      ]
     },
     "execution_count": 12,
     "metadata": {},
     "output_type": "execute_result"
    }
   ],
   "source": [
    "stock_tickers"
   ]
  },
  {
   "cell_type": "code",
   "execution_count": 13,
   "metadata": {},
   "outputs": [
    {
     "name": "stdout",
     "output_type": "stream",
     "text": [
      "2 components explain 80.00% of variance\n"
     ]
    }
   ],
   "source": [
    "import sklearn.decomposition\n",
    "from sklearn.decomposition import PCA\n",
    "import seaborn as sns\n",
    "\n",
    "stock_tickers = normed_returns.columns.values[:-1]\n",
    "assert 'SPX' not in stock_tickers, \"By accident included SPX index\"\n",
    "\n",
    "n_tickers = len(stock_tickers)\n",
    "pca = None\n",
    "cov_matrix = pd.DataFrame(data=np.ones(shape=(n_tickers, n_tickers)), columns=stock_tickers)\n",
    "cov_matrix_raw = cov_matrix\n",
    "\n",
    "if df_train is not None and df_raw_train is not None:\n",
    "    stock_tickers = asset_returns.columns.values[:-1]\n",
    "    assert 'SPX' not in stock_tickers, \"By accident included SPX index\"\n",
    "\n",
    "    ### START CODE HERE ### (≈ 2-3 lines of code)\n",
    "    cov_matrix = df_train[stock_tickers].cov()\n",
    "    cov_matrix_raw = df_raw_train[stock_tickers].cov()  \n",
    "    \n",
    "    # computing PCA on S&P 500 stocks\n",
    "    \n",
    "    pca=PCA()\n",
    "    pca.fit(cov_matrix_raw)\n",
    "\n",
    "    # not normed covariance matrix\n",
    "    \n",
    "\n",
    "    \n",
    "    ### END CODE HERE ###\n",
    "    \n",
    "    cov_raw_df = pd.DataFrame({'Variance': np.diag(cov_matrix_raw)}, index=stock_tickers)    \n",
    "    # cumulative variance explained\n",
    "    var_threshold = 0.8\n",
    "    var_explained = np.cumsum(pca.explained_variance_ratio_)\n",
    "    num_comp = np.where(np.logical_not(var_explained < var_threshold))[0][0] + 1  # +1 due to zero based-arrays\n",
    "    print('%d components explain %.2f%% of variance' %(num_comp, 100* var_threshold))\n",
    "    \n",
    " "
   ]
  },
  {
   "cell_type": "code",
   "execution_count": 14,
   "metadata": {},
   "outputs": [
    {
     "name": "stdout",
     "output_type": "stream",
     "text": [
      "4 components explain 80.00% of variance\n"
     ]
    }
   ],
   "source": [
    "pca.fit(cov_matrix)\n",
    "\n",
    "cov_df = pd.DataFrame({'Variance': np.diag(cov_matrix)}, index=stock_tickers)    \n",
    "# cumulative variance explained\n",
    "var_threshold = 0.8\n",
    "var_explained = np.cumsum(pca.explained_variance_ratio_)\n",
    "num_comp = np.where(np.logical_not(var_explained < var_threshold))[0][0] + 1  # +1 due to zero based-arrays\n",
    "print('%d components explain %.2f%% of variance' %(num_comp, 100* var_threshold))"
   ]
  },
  {
   "cell_type": "code",
   "execution_count": 15,
   "metadata": {},
   "outputs": [
    {
     "name": "stdout",
     "output_type": "stream",
     "text": [
      "(418, 418)\n",
      "(418, 418)\n"
     ]
    }
   ],
   "source": [
    "print(cov_matrix.shape)\n",
    "print(cov_matrix_raw.shape)"
   ]
  },
  {
   "cell_type": "code",
   "execution_count": 16,
   "metadata": {},
   "outputs": [
    {
     "name": "stdout",
     "output_type": "stream",
     "text": [
      "Submission successful, please check on the coursera grader page for the status\n"
     ]
    },
    {
     "data": {
      "text/plain": [
       "array([ 1.10446611,  1.09424087,  1.08190134,  1.10517006,  1.06941473,\n",
       "        1.10597862,  1.11869287,  1.0839399 ,  1.09803084,  1.06590728,\n",
       "        1.07798702,  1.107393  ,  1.12418337,  1.10412774,  1.07721126,\n",
       "        1.11952577,  1.11507312,  1.10687469,  1.04827028,  1.10800935,\n",
       "        1.10480045,  1.04297489,  1.07466613,  1.12510255,  1.10831513,\n",
       "        1.09118222,  1.08418296,  1.02668336,  1.09808835,  1.08506552,\n",
       "        1.08022595,  1.08116796,  1.09591114,  0.99807688,  1.11068716,\n",
       "        1.01433366,  1.10360906,  1.06598755,  1.11003861,  1.0879927 ,\n",
       "        1.08236593,  1.093903  ,  1.08489115,  1.1050359 ,  0.99850151,\n",
       "        1.08347058,  1.1019318 ,  1.08932552,  1.08876911,  1.09560839,\n",
       "        1.1027858 ,  1.09150807,  1.07067427,  1.1119615 ,  1.07304668,\n",
       "        1.10625388,  1.10454709,  1.11531806,  1.06707655,  1.08925028,\n",
       "        1.07207857,  1.08151718,  1.11539438,  1.09563297,  1.09915349,\n",
       "        1.10098573,  1.09770417,  1.05315411,  1.08235287,  1.10420203,\n",
       "        1.10765821,  1.08524638,  1.02531398,  1.10595498,  1.10337109,\n",
       "        1.10913785,  1.08713617,  1.11825335,  1.11819787,  1.08122381,\n",
       "        1.11686164,  1.0559472 ,  1.09614651,  1.10212167,  1.06172191,\n",
       "        1.09017849,  1.09338258,  1.11186398,  1.04779305,  1.0920264 ,\n",
       "        1.09189706,  1.10245445,  1.09369637,  1.09399401,  1.09920198,\n",
       "        0.92356831,  1.0993287 ,  1.05898641,  1.08077773,  1.09900737])"
      ]
     },
     "execution_count": 16,
     "metadata": {},
     "output_type": "execute_result"
    }
   ],
   "source": [
    "### GRADED PART (DO NOT EDIT) ###\n",
    "part_2 = np.diag(cov_matrix[: 100])\n",
    "try:\n",
    "    part2 = \" \".join(map(repr, part_2))\n",
    "except TypeError:\n",
    "    part2 = repr(part_2)\n",
    "submissions[all_parts[1]]=part2\n",
    "grading.submit(COURSERA_EMAIL, COURSERA_TOKEN, assignment_key,all_parts[:2],all_parts,submissions)\n",
    "### GRADED PART (DO NOT EDIT) ###\n",
    "np.diag(cov_matrix[: 100])"
   ]
  },
  {
   "cell_type": "code",
   "execution_count": 17,
   "metadata": {},
   "outputs": [
    {
     "data": {
      "image/png": "[encoded data removed]",
      "text/plain": [
       "<matplotlib.figure.Figure at 0x7f6e481f4588>"
      ]
     },
     "metadata": {},
     "output_type": "display_data"
    }
   ],
   "source": [
    "if pca is not None:\n",
    "    bar_width = 0.9\n",
    "    n_asset = int((1 / 10) * normed_returns.shape[1])\n",
    "    x_indx = np.arange(n_asset)\n",
    "    fig, ax = plt.subplots()\n",
    "    fig.set_size_inches(12, 4)\n",
    "    # Eigenvalues are measured as percentage of explained variance.\n",
    "    rects = ax.bar(x_indx, pca.explained_variance_ratio_[:n_asset], bar_width, color='deepskyblue')\n",
    "    ax.set_xticks(x_indx + bar_width / 2)\n",
    "    ax.set_xticklabels(list(range(n_asset)), rotation=45)\n",
    "    ax.set_title('Percent variance explained')\n",
    "    ax.legend((rects[0],), ('Percent variance explained by principal components',))"
   ]
  },
  {
   "cell_type": "code",
   "execution_count": 18,
   "metadata": {
    "collapsed": true
   },
   "outputs": [],
   "source": [
    "if pca is not None:\n",
    "    projected = pca.fit_transform(cov_matrix)"
   ]
  },
  {
   "cell_type": "code",
   "execution_count": 35,
   "metadata": {
    "collapsed": true
   },
   "outputs": [],
   "source": [
    "pcs = pca.components_"
   ]
  },
  {
   "cell_type": "code",
   "execution_count": 38,
   "metadata": {},
   "outputs": [
    {
     "data": {
      "text/plain": [
       "(418, 418)"
      ]
     },
     "execution_count": 38,
     "metadata": {},
     "output_type": "execute_result"
    }
   ],
   "source": [
    "pcs.shape"
   ]
  },
  {
   "cell_type": "markdown",
   "metadata": {},
   "source": [
    "#### Part 3 (Eigen-portfolios construction)\n",
    "\n",
    "**Instructions:**\n",
    "\n",
    "We now look a the first two eigen portfolios. We use definition of eigen portfolios as provided by Avellaneda \n",
    "http://math.nyu.edu/faculty/avellane/AvellanedaLeeStatArb20090616.pdf\n",
    "\n",
    "Following Avellaneda we define eigen portfolio weights as:\n",
    "$$Q_i^{(j)} = \\frac{v_i^{(j)}}{\\sigma_i}$$\n",
    "\n",
    "where $j$ is the index of eigen portfolio and $v_i$ is the i-th element of j-th eigen vector.\n",
    "\n",
    "In the code the pca.components_ are the Principal axes in feature space, representing the directions of maximum variance in the data. The components are sorted by explained_variance_.\n",
    "\n",
    "**Hint:** do not forget to normalize portfolio wieghts such they sum up to 1.\n",
    "\n",
    "Assign **pc_w** to be weights of the first eigen portfolio."
   ]
  },
  {
   "cell_type": "code",
   "execution_count": 41,
   "metadata": {
    "scrolled": true
   },
   "outputs": [
    {
     "name": "stdout",
     "output_type": "stream",
     "text": [
      "Sum of weights of first eigen-portfolio: 100.00\n"
     ]
    },
    {
     "data": {
      "image/png": "[encoded data removed]",
      "text/plain": [
       "<matplotlib.figure.Figure at 0x7f6e325edeb8>"
      ]
     },
     "metadata": {},
     "output_type": "display_data"
    }
   ],
   "source": [
    "# the first two eigen-portfolio weights# the fi \n",
    "# first component\n",
    "# get the Principal components\n",
    "pc_w = np.zeros(len(stock_tickers))\n",
    "eigen_prtf1 = pd.DataFrame(data ={'weights': pc_w.squeeze()*100}, index = stock_tickers)\n",
    "if pca is not None:\n",
    "    pcs = pca.components_\n",
    "    \n",
    "    ### START CODE HERE ### (≈ 1-2 lines of code)\n",
    "    # normalized to 1 \n",
    "    \n",
    "    pc_w = pcs[0,:]/np.sum(pcs[0,:])\n",
    "    \n",
    "    ### END CODE HERE ###\n",
    "    \n",
    "    eigen_prtf1 = pd.DataFrame(data ={'weights': pc_w.squeeze()*100}, index = stock_tickers)\n",
    "    eigen_prtf1.sort_values(by=['weights'], ascending=False, inplace=True)\n",
    "    print('Sum of weights of first eigen-portfolio: %.2f' % np.sum(eigen_prtf1))\n",
    "    eigen_prtf1.plot(title='First eigen-portfolio weights', \n",
    "                     figsize=(12,6), \n",
    "                     xticks=range(0, len(stock_tickers),10), \n",
    "                     rot=45, \n",
    "                     linewidth=3)"
   ]
  },
  {
   "cell_type": "code",
   "execution_count": 42,
   "metadata": {},
   "outputs": [
    {
     "name": "stdout",
     "output_type": "stream",
     "text": [
      "Submission successful, please check on the coursera grader page for the status\n"
     ]
    },
    {
     "data": {
      "text/plain": [
       "array([ 0.47468423,  0.46792256,  0.46582859,  0.46409832,  0.46198185,\n",
       "        0.4592216 ,  0.458831  ,  0.45625197,  0.45192491,  0.45003301,\n",
       "        0.44861431,  0.44635401,  0.44622969,  0.44474862,  0.43727119,\n",
       "        0.43642191,  0.43359854,  0.42928871,  0.425686  ,  0.42498937,\n",
       "        0.42322574,  0.42200413,  0.41834441,  0.41775051,  0.4151422 ,\n",
       "        0.41487592,  0.41115746,  0.40910199,  0.40856054,  0.40838443,\n",
       "        0.40413899,  0.40379658,  0.40174295,  0.39791501,  0.3959889 ,\n",
       "        0.39592681,  0.39515082,  0.39412325,  0.39158191,  0.38995266,\n",
       "        0.38972076,  0.38942332,  0.38859578,  0.38587384,  0.38462409,\n",
       "        0.38364827,  0.38301526,  0.38120255,  0.37904626,  0.37852305,\n",
       "        0.37484083,  0.37422705,  0.37328098,  0.37318969,  0.37254937,\n",
       "        0.37181577,  0.3715313 ,  0.37145626,  0.37118977,  0.37087543,\n",
       "        0.37006206,  0.36935851,  0.36847054,  0.36807988,  0.36787886,\n",
       "        0.36451816,  0.36416989,  0.36371064,  0.36335271,  0.36131192,\n",
       "        0.36057855,  0.35904804,  0.35899325,  0.35648339,  0.35529619,\n",
       "        0.35460566,  0.35238603,  0.3517282 ,  0.35060821,  0.34919713,\n",
       "        0.34867649,  0.34860995,  0.34827545,  0.34805578,  0.3474739 ,\n",
       "        0.34668833,  0.34539534,  0.34482959,  0.34406874,  0.34319844,\n",
       "        0.34062269,  0.33970562,  0.33881228,  0.33770305,  0.3363736 ,\n",
       "        0.33489615,  0.33463237,  0.33448056,  0.33430147,  0.33341903,\n",
       "        0.33319511,  0.33192353,  0.33175607,  0.3309204 ,  0.3301026 ,\n",
       "        0.32958048,  0.32950426,  0.32868326,  0.32680479,  0.32507361,\n",
       "        0.32280454,  0.32212976,  0.32147645,  0.32038003,  0.31818678,\n",
       "        0.31695676,  0.31607776,  0.31449536,  0.31080467,  0.30975136,\n",
       "        0.30947783,  0.30847499,  0.30619332,  0.30560211,  0.30536125,\n",
       "        0.30530563,  0.3049529 ,  0.30492527,  0.30407306,  0.30402507,\n",
       "        0.3039694 ,  0.30304822,  0.30270774,  0.30143981,  0.29978086,\n",
       "        0.29972477,  0.29821275,  0.29685087,  0.29618215,  0.29555689,\n",
       "        0.2950631 ,  0.29389771,  0.29331264,  0.29317949,  0.29262022,\n",
       "        0.29110741,  0.29101346,  0.29089098,  0.28968524,  0.28958239,\n",
       "        0.2853156 ,  0.28471303,  0.28139698,  0.28114945,  0.28085232,\n",
       "        0.28058348,  0.2805267 ,  0.27928696,  0.2789522 ,  0.27773396,\n",
       "        0.27687924,  0.27465973,  0.27409226,  0.27381548,  0.27377488,\n",
       "        0.2735813 ,  0.27201397,  0.26981588,  0.26972586,  0.2684797 ,\n",
       "        0.26839258,  0.2661465 ,  0.26581238,  0.26543036,  0.26536149,\n",
       "        0.26499907,  0.26486395,  0.26317271,  0.26312255,  0.26065289,\n",
       "        0.2605251 ,  0.26000348,  0.25947807,  0.25901012,  0.25838885,\n",
       "        0.2583202 ,  0.25771516,  0.25626417,  0.25606841,  0.25495305,\n",
       "        0.25488794,  0.25453574,  0.25435327,  0.2502881 ,  0.24931643,\n",
       "        0.24813776,  0.24806782,  0.24680259,  0.24632419,  0.24573419,\n",
       "        0.24522462,  0.24179992,  0.24116409,  0.23804054,  0.23801082,\n",
       "        0.23709089,  0.23547838,  0.23177049,  0.23022854,  0.22917837,\n",
       "        0.22890836,  0.2277978 ,  0.2220203 ,  0.22136955,  0.22100209,\n",
       "        0.22077017,  0.22031505,  0.21973271,  0.21824047,  0.21474012,\n",
       "        0.2143319 ,  0.21417109,  0.21335933,  0.21281379,  0.21271749,\n",
       "        0.21240636,  0.21228001,  0.21035296,  0.20944355,  0.20896071,\n",
       "        0.20769892,  0.2065132 ,  0.205035  ,  0.2033799 ,  0.20311389,\n",
       "        0.20275161,  0.2018625 ,  0.20129287,  0.2012753 ,  0.20092494,\n",
       "        0.20070069,  0.20035884,  0.19986959,  0.19900608,  0.1988048 ,\n",
       "        0.19822638,  0.19795362,  0.19523938,  0.19447008,  0.19443155,\n",
       "        0.19317682,  0.19272977,  0.19086159,  0.19039316,  0.1899994 ,\n",
       "        0.18965637,  0.18916886,  0.18860739,  0.18762664,  0.18697404,\n",
       "        0.18604472,  0.18598249,  0.18559258,  0.18473267,  0.18417124,\n",
       "        0.18207194,  0.18132047,  0.1811552 ,  0.18027728,  0.17968384,\n",
       "        0.17900103,  0.17759318,  0.1767328 ,  0.17624778,  0.17500532,\n",
       "        0.17442278,  0.17314924,  0.17304768,  0.17233634,  0.17015466,\n",
       "        0.16859673,  0.16753007,  0.16629391,  0.16538022,  0.16356488,\n",
       "        0.16269788,  0.16162286,  0.16105045,  0.15925823,  0.15897307,\n",
       "        0.15736502,  0.15688231,  0.15663228,  0.15628788,  0.15539767,\n",
       "        0.15489775,  0.15476731,  0.15468838,  0.15453507,  0.15344331,\n",
       "        0.1518771 ,  0.15186683,  0.15165491,  0.15108918,  0.1504356 ,\n",
       "        0.15013457,  0.14969534,  0.14871553,  0.1486615 ,  0.14802425,\n",
       "        0.14699633,  0.14691188,  0.14662176,  0.14477769,  0.14390204,\n",
       "        0.14245436,  0.14120486,  0.14120089,  0.14074769,  0.14006926,\n",
       "        0.13985075,  0.13951696,  0.13910664,  0.13845079,  0.13688518,\n",
       "        0.13623724,  0.13562594,  0.13533299,  0.1348566 ,  0.13468831,\n",
       "        0.13413818,  0.1335739 ,  0.1318836 ,  0.13176013,  0.13128602,\n",
       "        0.12995426,  0.12993638,  0.1296126 ,  0.12884648,  0.12805687,\n",
       "        0.12775237,  0.12558495,  0.12547974,  0.12480401,  0.12417849,\n",
       "        0.12409024,  0.12378817,  0.1234311 ,  0.12210114,  0.12191936,\n",
       "        0.12134125,  0.12102915,  0.12051889,  0.12038761,  0.11906387,\n",
       "        0.11902712,  0.11864348,  0.11795447,  0.1164776 ,  0.11614125,\n",
       "        0.115762  ,  0.11567729,  0.11535574,  0.11534831,  0.11511972,\n",
       "        0.11479302,  0.11432635,  0.11299262,  0.11264541,  0.112307  ,\n",
       "        0.11200854,  0.11089082,  0.11048988,  0.10959794,  0.10848387,\n",
       "        0.10656354,  0.10652084,  0.10544713,  0.10449457,  0.10438445,\n",
       "        0.10418394,  0.10313129,  0.10238526,  0.10077617,  0.09970524,\n",
       "        0.09851589,  0.0978604 ,  0.09617879,  0.09611965,  0.09471416,\n",
       "        0.09345754,  0.09203345,  0.09044943,  0.08616758,  0.08311392,\n",
       "        0.08185788,  0.08105016,  0.08033059,  0.07823477,  0.07737032,\n",
       "        0.07523325,  0.07459253,  0.0727659 ,  0.07251613,  0.06942997,\n",
       "        0.06931534,  0.06807195,  0.06417681,  0.06342811,  0.06301276,\n",
       "        0.06086465,  0.05831948,  0.05693758,  0.05483712,  0.04780307,\n",
       "        0.04056674,  0.03737659,  0.03230359])"
      ]
     },
     "execution_count": 42,
     "metadata": {},
     "output_type": "execute_result"
    }
   ],
   "source": [
    "### GRADED PART (DO NOT EDIT) ###\n",
    "part_3 = list(eigen_prtf1.squeeze().values)\n",
    "try:\n",
    "    part3 = \" \".join(map(repr, part_3))\n",
    "except TypeError:\n",
    "    part3 = repr(part_3)\n",
    "submissions[all_parts[2]]=part3\n",
    "grading.submit(COURSERA_EMAIL, COURSERA_TOKEN, assignment_key,all_parts[:3],all_parts,submissions)\n",
    "eigen_prtf1.squeeze().values\n",
    "### GRADED PART (DO NOT EDIT) ###"
   ]
  },
  {
   "cell_type": "code",
   "execution_count": null,
   "metadata": {
    "collapsed": true
   },
   "outputs": [],
   "source": []
  },
  {
   "cell_type": "markdown",
   "metadata": {},
   "source": [
    "We sort the first two eigen portfolio weights and plot the results."
   ]
  },
  {
   "cell_type": "code",
   "execution_count": 43,
   "metadata": {
    "scrolled": true
   },
   "outputs": [
    {
     "name": "stdout",
     "output_type": "stream",
     "text": [
      "Sum of weights of second eigen-portfolio: 100.00\n"
     ]
    },
    {
     "data": {
      "image/png": "[encoded data removed]",
      "text/plain": [
       "<matplotlib.figure.Figure at 0x7f6e309539e8>"
      ]
     },
     "metadata": {},
     "output_type": "display_data"
    }
   ],
   "source": [
    "pc_w = np.zeros(len(stock_tickers))\n",
    "eigen_prtf2 = pd.DataFrame(data ={'weights': pc_w.squeeze()*100}, index = stock_tickers)\n",
    "\n",
    "if pca is not None:\n",
    "    pcs = pca.components_\n",
    "    \n",
    "    ### START CODE HERE ### (≈ 1-2 lines of code)\n",
    "    # normalized to 1 \n",
    "\n",
    "   \n",
    "    pc_w = pcs[1,:]/np.sum(pcs[1,:])\n",
    "    \n",
    "    ### END CODE HERE ###\n",
    "\n",
    "    eigen_prtf2 = pd.DataFrame(data ={'weights': pc_w.squeeze()*100}, index = stock_tickers)\n",
    "    eigen_prtf2.sort_values(by=['weights'], ascending=False, inplace=True)\n",
    "    print('Sum of weights of second eigen-portfolio: %.2f' % np.sum(eigen_prtf2))\n",
    "    eigen_prtf2.plot(title='Second eigen-portfolio weights',\n",
    "                     figsize=(12,6), \n",
    "                     xticks=range(0, len(stock_tickers),10), \n",
    "                     rot=45, \n",
    "                     linewidth=3)"
   ]
  },
  {
   "cell_type": "code",
   "execution_count": 44,
   "metadata": {},
   "outputs": [
    {
     "name": "stdout",
     "output_type": "stream",
     "text": [
      "Submission successful, please check on the coursera grader page for the status\n"
     ]
    },
    {
     "data": {
      "text/plain": [
       "array([ 51.65986292,  51.53724502,  51.05317834,  50.59562408,\n",
       "        50.53984311,  50.36010995,  48.9921189 ,  48.86058099,\n",
       "        47.87521728,  47.39707654,  46.95374455,  46.5194061 ,\n",
       "        45.23102635,  42.90497323,  42.01928917,  41.7883494 ,\n",
       "        41.56515762,  41.46678784,  40.53669466,  40.27307481,\n",
       "        39.59775069,  38.17070098,  38.1600556 ,  37.92807469,\n",
       "        37.27514895,  36.81596065,  35.79434608,  35.23133829,\n",
       "        33.97846128,  33.92850407,  33.10383768,  33.06116953,\n",
       "        31.95733055,  31.86067795,  31.20140274,  30.94235672,\n",
       "        30.45678381,  29.74194987,  29.46815708,  28.98249509,\n",
       "        28.9101015 ,  26.58399759,  26.53961919,  26.52960206,\n",
       "        26.02613154,  25.84455304,  25.84378206,  25.83094987,\n",
       "        25.5186511 ,  25.33800869,  25.2008677 ,  24.62931676,\n",
       "        24.37609232,  23.30721302,  21.34393834,  21.2026936 ,\n",
       "        20.24542147,  20.17374453,  19.66415909,  19.31783218,\n",
       "        18.24905957,  18.13796589,  17.91072006,  17.61496282,\n",
       "        17.61385569,  17.30158819,  17.23577016,  17.14883501,\n",
       "        16.86828478,  16.56285843,  16.35890967,  16.32134041,\n",
       "        16.29090869,  16.18033657,  15.92443211,  15.81085761,\n",
       "        15.79932859,  15.31184007,  15.12564025,  15.01640007,\n",
       "        14.96407778,  14.61347458,  14.49596945,  14.42898349,\n",
       "        14.1488937 ,  14.01155836,  13.9472913 ,  13.64529485,\n",
       "        13.49790626,  13.09476773,  13.01692683,  12.99987379,\n",
       "        12.90626911,  12.66872368,  12.63093394,  12.47362575,\n",
       "        12.47238239,  12.46924955,  12.3788691 ,  12.37628808,\n",
       "        12.36549143,  12.34731672,  12.33773095,  11.94584945,\n",
       "        11.94343113,  11.93989013,  11.87780876,  11.85999141,\n",
       "        11.69387873,  11.68020425,  11.62106675,  11.61829685,\n",
       "        11.61388193,  11.28054322,  11.14873829,  11.1156216 ,\n",
       "        10.61189959,  10.60017983,  10.39695993,  10.39403193,\n",
       "        10.20644713,   9.97276726,   9.74236568,   9.63580414,\n",
       "         9.33128099,   9.21202754,   9.06530276,   8.89833353,\n",
       "         8.68787761,   8.67619278,   8.66545252,   8.60762224,\n",
       "         8.36272054,   8.30349177,   8.24371747,   8.09592749,\n",
       "         7.85163974,   7.82814833,   7.79244253,   7.6883284 ,\n",
       "         7.6354344 ,   7.50265128,   7.42652706,   7.21566075,\n",
       "         7.16350749,   7.02116855,   6.79019822,   6.66268251,\n",
       "         6.64719904,   6.6134994 ,   6.50046617,   6.41953903,\n",
       "         6.37241607,   6.32579448,   6.0899909 ,   6.05578525,\n",
       "         6.00718414,   5.9254478 ,   5.92430606,   5.89040849,\n",
       "         5.87521182,   5.8715198 ,   5.80914948,   5.75458928,\n",
       "         5.72186539,   5.65960428,   5.6033668 ,   5.59652032,\n",
       "         5.46596604,   5.26057244,   5.17078259,   5.09942075,\n",
       "         5.03612216,   5.00352642,   4.76873462,   4.60745401,\n",
       "         4.40593239,   4.36807952,   4.33966101,   4.19301349,\n",
       "         4.12761463,   4.06394801,   3.9215413 ,   3.81524319,\n",
       "         3.42667892,   3.30937525,   3.30013359,   3.02263906,\n",
       "         2.98992403,   2.71380785,   2.65786348,   2.41437985,\n",
       "         2.21966354,   1.88184294,   1.80537243,   1.35528512,\n",
       "         1.32082841,   1.28823676,   1.26432538,   1.24614692,\n",
       "         1.24137096,   1.18607849,   1.17828826,   1.16685856,\n",
       "         1.11631268,   1.09888211,   1.09411776,   1.04042237,\n",
       "         0.95893858,   0.63768477,   0.54929073,   0.41909358,\n",
       "         0.36340102,   0.27852832,   0.24041692,  -0.13424345,\n",
       "        -0.24153262,  -0.25274887,  -0.3895805 ,  -0.4089945 ,\n",
       "        -0.49120402,  -0.49876597,  -0.53827103,  -0.61834221,\n",
       "        -0.65408187,  -0.99356709,  -1.17774848,  -1.51816391,\n",
       "        -1.58087354,  -1.61858584,  -1.63326206,  -1.89310219,\n",
       "        -1.89441716,  -1.89607141,  -1.91551884,  -2.03096673,\n",
       "        -2.08337125,  -2.19991944,  -2.23061226,  -2.30733215,\n",
       "        -2.47788628,  -2.48603319,  -2.54111867,  -2.62016984,\n",
       "        -2.70116824,  -2.97720529,  -3.07018856,  -3.14753376,\n",
       "        -3.15799312,  -3.1970446 ,  -3.21084974,  -3.23638959,\n",
       "        -3.33071128,  -3.39314785,  -3.52511709,  -3.57467309,\n",
       "        -3.73166993,  -3.8674078 ,  -3.9947819 ,  -3.99962803,\n",
       "        -4.06686486,  -4.07349911,  -4.21946368,  -4.4172034 ,\n",
       "        -4.44963063,  -4.50535374,  -4.51600679,  -4.57331535,\n",
       "        -4.59316891,  -4.65388953,  -4.82721903,  -4.84830065,\n",
       "        -4.90760942,  -4.95524226,  -4.99000169,  -5.23075065,\n",
       "        -5.30600905,  -5.51668973,  -5.59686757,  -5.66144513,\n",
       "        -6.01108566,  -6.0860157 ,  -6.26250109,  -6.29176671,\n",
       "        -6.42175706,  -6.45425647,  -6.86845917,  -6.90112494,\n",
       "        -6.918173  ,  -6.96317273,  -7.0441232 ,  -7.05190714,\n",
       "        -7.17162645,  -7.54482021,  -7.77427519,  -7.79371028,\n",
       "        -7.795795  ,  -7.83075099,  -8.13076094,  -8.14603396,\n",
       "        -8.186311  ,  -8.39283969,  -8.54051165,  -8.54338972,\n",
       "        -9.15167419,  -9.32875685,  -9.38073805,  -9.74126985,\n",
       "        -9.83022715, -10.1461741 , -10.17248311, -10.38529283,\n",
       "       -10.5182791 , -10.58211836, -10.75095645, -10.83149056,\n",
       "       -11.59408366, -11.92296822, -11.94616775, -12.01144331,\n",
       "       -12.26904513, -12.27563784, -12.321486  , -12.36273865,\n",
       "       -12.8385295 , -12.89988173, -12.93699427, -14.27220577,\n",
       "       -14.92579807, -15.07253716, -15.5333717 , -15.77395142,\n",
       "       -16.41240937, -16.4403001 , -16.58742489, -16.89440081,\n",
       "       -18.04814395, -18.63801266, -18.70351521, -18.91410873,\n",
       "       -18.96536254, -19.3453553 , -19.41997278, -19.45251849,\n",
       "       -19.4990191 , -19.60460343, -19.79423314, -19.97811272,\n",
       "       -20.30673639, -20.67200263, -20.68470315, -20.95165763,\n",
       "       -22.31373117, -22.35516532, -22.43444085, -22.94083711,\n",
       "       -22.96986068, -23.5140082 , -23.8334718 , -24.02633544,\n",
       "       -25.7362484 , -25.93384138, -26.12125471, -26.96950798,\n",
       "       -27.03271492, -27.92221351, -27.98107961, -28.73728328,\n",
       "       -28.77506819, -28.90715196, -29.00923298, -29.03827843,\n",
       "       -29.71225021, -30.82911391, -31.27897144, -31.36339308,\n",
       "       -31.59116609, -31.82146448, -31.87527814, -31.97487344,\n",
       "       -32.02630151, -33.2191237 , -33.30938535, -33.78434808,\n",
       "       -33.93628033, -34.11115074, -34.18438952, -34.29193044,\n",
       "       -34.42509576, -34.53108703, -35.5847953 , -35.83745874,\n",
       "       -35.84285789, -36.44909757, -37.22101043, -37.30768771,\n",
       "       -37.54940887, -37.73255225, -38.23453785, -38.7628613 ,\n",
       "       -38.84375293, -39.45672229, -39.70373553, -40.05957249,\n",
       "       -40.20695691, -40.39137402, -40.68535185, -40.83541791,\n",
       "       -40.86000177, -40.90926212, -41.02727443, -41.11991514,\n",
       "       -41.80538561, -42.35463092, -42.79055567, -42.95484326,\n",
       "       -43.42696085, -43.67809314])"
      ]
     },
     "execution_count": 44,
     "metadata": {},
     "output_type": "execute_result"
    }
   ],
   "source": [
    "### GRADED PART (DO NOT EDIT) ###\n",
    "part_4 = list(eigen_prtf2.as_matrix().squeeze())\n",
    "try:\n",
    "    part4 = \" \".join(map(repr, part_4))\n",
    "except TypeError:\n",
    "    part4 = repr(part_4)\n",
    "submissions[all_parts[3]]=part4\n",
    "grading.submit(COURSERA_EMAIL, COURSERA_TOKEN, assignment_key,all_parts[:4],all_parts,submissions)\n",
    "eigen_prtf2.as_matrix().squeeze()\n",
    "### GRADED PART (DO NOT EDIT) ###"
   ]
  },
  {
   "cell_type": "markdown",
   "metadata": {},
   "source": [
    "#### Part 4 (Compute performance of several eigen portfolios)\n",
    "\n",
    "**Instructions:**\n",
    "- Implement sharpe_ratio() function. The function takes ts_returns argument of type pd.Series and returns a tuple of annualized return, annualized vol, and annualized sharpe ratio, where sharpe ratio is defined as annualized return divided by annualized volatility \n",
    "- find portfolio (an index into sharpe_metric) that has the highest sharpe ratio"
   ]
  },
  {
   "cell_type": "code",
   "execution_count": 70,
   "metadata": {
    "collapsed": true
   },
   "outputs": [],
   "source": [
    "def sharpe_ratio(ts_returns, periods_per_year=252):\n",
    "    \"\"\"\n",
    "    sharpe_ratio - Calculates annualized return, annualized vol, and annualized sharpe ratio, \n",
    "                    where sharpe ratio is defined as annualized return divided by annualized volatility \n",
    "                    \n",
    "    Arguments:\n",
    "    ts_returns - pd.Series of returns of a single eigen portfolio\n",
    "    \n",
    "    Return:\n",
    "    a tuple of three doubles: annualized return, volatility, and sharpe ratio\n",
    "    \"\"\"\n",
    "    \n",
    "    annualized_return = 0.\n",
    "    annualized_vol = 0.\n",
    "    annualized_sharpe = 0.\n",
    "    \n",
    "    ### START CODE HERE ### (≈ 4-5 lines of code)\n",
    "    n_years = ts_returns.shape[0] / periods_per_year\n",
    "    annualized_return = np.power(np.prod(1+ts_returns),(1/n_years))-1\n",
    "    \n",
    "    annualized_vol = ts_returns.std() * np.sqrt(periods_per_year)\n",
    "\n",
    "    annualized_sharpe = annualized_return / annualized_vol\n",
    "    ### END CODE HERE ###\n",
    "    \n",
    "    return annualized_return, annualized_vol, annualized_sharpe"
   ]
  },
  {
   "cell_type": "code",
   "execution_count": null,
   "metadata": {
    "collapsed": true
   },
   "outputs": [],
   "source": []
  },
  {
   "cell_type": "markdown",
   "metadata": {},
   "source": [
    "We compute the annualized return, volatility, and Sharpe ratio of the first two eigen portfolios."
   ]
  },
  {
   "cell_type": "code",
   "execution_count": 71,
   "metadata": {},
   "outputs": [
    {
     "name": "stdout",
     "output_type": "stream",
     "text": [
      "First eigen-portfolio:\n",
      "Return = -100.00%\n",
      "Volatility = 1436.19%\n",
      "Sharpe = -0.07\n"
     ]
    },
    {
     "data": {
      "image/png": "[encoded data removed]",
      "text/plain": [
       "<matplotlib.figure.Figure at 0x7f6e309060b8>"
      ]
     },
     "metadata": {},
     "output_type": "display_data"
    }
   ],
   "source": [
    "if df_raw_test is not None:\n",
    "    eigen_prtf1_returns = np.dot(df_raw_test.loc[:, eigen_prtf1.index], eigen_prtf1)\n",
    "    eigen_prtf1_returns = pd.Series(eigen_prtf1_returns.squeeze(), index=df_test.index)\n",
    "    er, vol, sharpe = sharpe_ratio(eigen_prtf1_returns)\n",
    "    print('First eigen-portfolio:\\nReturn = %.2f%%\\nVolatility = %.2f%%\\nSharpe = %.2f' % (er*100, vol*100, sharpe))\n",
    "    year_frac = (eigen_prtf1_returns.index[-1] - eigen_prtf1_returns.index[0]).days / 252\n",
    "\n",
    "    df_plot = pd.DataFrame({'PC1': eigen_prtf1_returns, 'SPX': df_raw_test.loc[:, 'SPX']}, index=df_test.index)\n",
    "    np.cumprod(df_plot + 1).plot(title='Returns of the market-cap weighted index vs. First eigen-portfolio', \n",
    "                             figsize=(12,6), linewidth=3)"
   ]
  },
  {
   "cell_type": "code",
   "execution_count": 72,
   "metadata": {},
   "outputs": [
    {
     "name": "stdout",
     "output_type": "stream",
     "text": [
      "Second eigen-portfolio:\n",
      "Return = -97.25%\n",
      "Volatility = 292.92%\n",
      "Sharpe = -0.33\n"
     ]
    }
   ],
   "source": [
    "if df_raw_test is not None:\n",
    "    eigen_prtf2_returns = np.dot(df_raw_test.loc[:, eigen_prtf2.index], eigen_prtf2 / 100)\n",
    "    eigen_prtf2_returns = pd.Series(eigen_prtf2_returns.squeeze(), index=df_test.index)\n",
    "    er, vol, sharpe = sharpe_ratio(eigen_prtf2_returns)\n",
    "    print('Second eigen-portfolio:\\nReturn = %.2f%%\\nVolatility = %.2f%%\\nSharpe = %.2f' % (er*100, vol*100, sharpe))"
   ]
  },
  {
   "cell_type": "code",
   "execution_count": 73,
   "metadata": {},
   "outputs": [
    {
     "data": {
      "text/plain": [
       "<matplotlib.axes._subplots.AxesSubplot at 0x7f6e326688d0>"
      ]
     },
     "execution_count": 73,
     "metadata": {},
     "output_type": "execute_result"
    },
    {
     "data": {
      "image/png": "[encoded data removed]",
      "text/plain": [
       "<matplotlib.figure.Figure at 0x7f6e30826160>"
      ]
     },
     "metadata": {},
     "output_type": "display_data"
    }
   ],
   "source": [
    "df_plot = pd.DataFrame({'PC2': eigen_prtf2_returns, 'SPX': df_raw_test.loc[:, 'SPX']}, index=df_test.index)\n",
    "np.cumprod(df_plot + 1).plot(title='Returns of the market-cap weighted index vs. First eigen-portfolio', \n",
    "                             figsize=(12,6), linewidth=3)"
   ]
  },
  {
   "cell_type": "code",
   "execution_count": 74,
   "metadata": {},
   "outputs": [
    {
     "data": {
      "text/plain": [
       "(418, 418)"
      ]
     },
     "execution_count": 74,
     "metadata": {},
     "output_type": "execute_result"
    }
   ],
   "source": [
    "pcs.shape"
   ]
  },
  {
   "cell_type": "markdown",
   "metadata": {},
   "source": [
    "We repeat the exercise of computing Sharpe ratio for the first N portfolios and select portfolio with the highest postive Sharpe ratio."
   ]
  },
  {
   "cell_type": "code",
   "execution_count": 88,
   "metadata": {},
   "outputs": [
    {
     "name": "stderr",
     "output_type": "stream",
     "text": [
      "/opt/conda/lib/python3.6/site-packages/ipykernel_launcher.py:19: RuntimeWarning: invalid value encountered in power\n"
     ]
    },
    {
     "name": "stdout",
     "output_type": "stream",
     "text": [
      "Eigen portfolio #42 with the highest Sharpe. Return 61.14%, vol = 22.80%, Sharpe = 2.68\n"
     ]
    },
    {
     "data": {
      "image/png": "[encoded data removed]",
      "text/plain": [
       "<matplotlib.figure.Figure at 0x7f6e3055c780>"
      ]
     },
     "metadata": {},
     "output_type": "display_data"
    }
   ],
   "source": [
    "n_portfolios = 120\n",
    "annualized_ret = np.array([0.] * n_portfolios)\n",
    "sharpe_metric = np.array([0.] * n_portfolios)\n",
    "annualized_vol = np.array([0.] * n_portfolios)\n",
    "idx_highest_sharpe = 0 # index into sharpe_metric which identifies a portfolio with rhe highest Sharpe ratio\n",
    "    \n",
    "if pca is not None:\n",
    "    for ix in range(n_portfolios):\n",
    "        \n",
    "        ### START CODE HERE ### (≈ 4-5 lines of code)\n",
    "        pc_w = pcs[:,ix] / np.sum(pcs[:,ix])\n",
    "        \n",
    "        eigen_prtf = pd.DataFrame(data ={'weights': pc_w}, index = stock_tickers)\n",
    "        \n",
    "        eigen_returns = np.dot(df_raw_test.loc[:, eigen_prtf.index], eigen_prtf )\n",
    "        eigen_returns = pd.Series(eigen_returns.squeeze(), index=df_test.index)\n",
    "        \n",
    "        annualized_ret[ix], annualized_vol[ix], sharpe_metric[ix] = sharpe_ratio( eigen_returns )\n",
    "        \n",
    "    \n",
    "        ### END CODE HERE ###\n",
    "    \n",
    "    \n",
    "    # find portfolio with the highest Sharpe ratio\n",
    "    ### START CODE HERE ### (≈ 2-3 lines of code)\n",
    "\n",
    "    idx_highest_sharpe = np.nanargmax(sharpe_metric)\n",
    "    \n",
    "    ### END CODE HERE ###\n",
    "    \n",
    "    print('Eigen portfolio #%d with the highest Sharpe. Return %.2f%%, vol = %.2f%%, Sharpe = %.2f' % \n",
    "          (idx_highest_sharpe,\n",
    "           annualized_ret[idx_highest_sharpe]*100, \n",
    "           annualized_vol[idx_highest_sharpe]*100, \n",
    "           sharpe_metric[idx_highest_sharpe]))\n",
    "\n",
    "    fig, ax = plt.subplots()\n",
    "    fig.set_size_inches(12, 4)\n",
    "    ax.plot(sharpe_metric, linewidth=3)\n",
    "    ax.set_title('Sharpe ratio of eigen-portfolios')\n",
    "    ax.set_ylabel('Sharpe ratio')\n",
    "    ax.set_xlabel('Portfolios')"
   ]
  },
  {
   "cell_type": "code",
   "execution_count": 89,
   "metadata": {},
   "outputs": [
    {
     "name": "stdout",
     "output_type": "stream",
     "text": [
      "(117, 3)\n"
     ]
    },
    {
     "data": {
      "text/html": [
       "<div>\n",
       "<table border=\"1\" class=\"dataframe\">\n",
       "  <thead>\n",
       "    <tr style=\"text-align: right;\">\n",
       "      <th></th>\n",
       "      <th>Return</th>\n",
       "      <th>Sharpe</th>\n",
       "      <th>Vol</th>\n",
       "    </tr>\n",
       "  </thead>\n",
       "  <tbody>\n",
       "    <tr>\n",
       "      <th>42</th>\n",
       "      <td>0.611437</td>\n",
       "      <td>2.681354</td>\n",
       "      <td>0.228033</td>\n",
       "    </tr>\n",
       "    <tr>\n",
       "      <th>24</th>\n",
       "      <td>1.032178</td>\n",
       "      <td>2.431344</td>\n",
       "      <td>0.424530</td>\n",
       "    </tr>\n",
       "    <tr>\n",
       "      <th>104</th>\n",
       "      <td>0.512464</td>\n",
       "      <td>2.398724</td>\n",
       "      <td>0.213640</td>\n",
       "    </tr>\n",
       "    <tr>\n",
       "      <th>97</th>\n",
       "      <td>1.425562</td>\n",
       "      <td>2.337929</td>\n",
       "      <td>0.609754</td>\n",
       "    </tr>\n",
       "    <tr>\n",
       "      <th>9</th>\n",
       "      <td>0.753548</td>\n",
       "      <td>2.306601</td>\n",
       "      <td>0.326692</td>\n",
       "    </tr>\n",
       "    <tr>\n",
       "      <th>94</th>\n",
       "      <td>0.502025</td>\n",
       "      <td>2.221589</td>\n",
       "      <td>0.225976</td>\n",
       "    </tr>\n",
       "    <tr>\n",
       "      <th>93</th>\n",
       "      <td>0.601081</td>\n",
       "      <td>2.216774</td>\n",
       "      <td>0.271151</td>\n",
       "    </tr>\n",
       "    <tr>\n",
       "      <th>2</th>\n",
       "      <td>0.453437</td>\n",
       "      <td>2.198512</td>\n",
       "      <td>0.206247</td>\n",
       "    </tr>\n",
       "    <tr>\n",
       "      <th>102</th>\n",
       "      <td>0.274142</td>\n",
       "      <td>1.813008</td>\n",
       "      <td>0.151208</td>\n",
       "    </tr>\n",
       "    <tr>\n",
       "      <th>118</th>\n",
       "      <td>0.874381</td>\n",
       "      <td>1.793422</td>\n",
       "      <td>0.487549</td>\n",
       "    </tr>\n",
       "  </tbody>\n",
       "</table>\n",
       "</div>"
      ],
      "text/plain": [
       "       Return    Sharpe       Vol\n",
       "42   0.611437  2.681354  0.228033\n",
       "24   1.032178  2.431344  0.424530\n",
       "104  0.512464  2.398724  0.213640\n",
       "97   1.425562  2.337929  0.609754\n",
       "9    0.753548  2.306601  0.326692\n",
       "94   0.502025  2.221589  0.225976\n",
       "93   0.601081  2.216774  0.271151\n",
       "2    0.453437  2.198512  0.206247\n",
       "102  0.274142  1.813008  0.151208\n",
       "118  0.874381  1.793422  0.487549"
      ]
     },
     "execution_count": 89,
     "metadata": {},
     "output_type": "execute_result"
    }
   ],
   "source": [
    "results = pd.DataFrame(data={'Return': annualized_ret, 'Vol': annualized_vol, 'Sharpe': sharpe_metric})\n",
    "results.dropna(inplace=True)\n",
    "results.sort_values(by=['Sharpe'], ascending=False, inplace=True)\n",
    "print(results.shape)\n",
    "results.head(10)"
   ]
  },
  {
   "cell_type": "code",
   "execution_count": 90,
   "metadata": {},
   "outputs": [
    {
     "name": "stdout",
     "output_type": "stream",
     "text": [
      "Submission successful, please check on the coursera grader page for the status\n"
     ]
    },
    {
     "data": {
      "text/plain": [
       "array([ 2.68135386,  2.43134379,  2.39872442,  2.33792864,  2.30660114,\n",
       "        2.22158907,  2.2167735 ,  2.19851244,  1.81300846,  1.79342192,\n",
       "        1.76312136,  1.61426685,  1.31394555,  1.30788062,  1.26660256,\n",
       "        1.25888541,  1.18687021,  1.17034684,  1.1646922 ,  1.06187713,\n",
       "        1.05581668,  1.05503146,  1.04881373,  1.02165359,  1.01830316,\n",
       "        1.00829296,  0.99498987,  0.9752889 ,  0.958144  ,  0.92726752,\n",
       "        0.92483757,  0.90418802,  0.89253674,  0.88640631,  0.86855843,\n",
       "        0.8428844 ,  0.79154999,  0.7280406 ,  0.68482477,  0.66834314,\n",
       "        0.64094412,  0.62471951,  0.6200365 ,  0.60334151,  0.60021067,\n",
       "        0.5947495 ,  0.5909932 ,  0.48427946,  0.47798503,  0.47444463,\n",
       "        0.47279705,  0.46333553,  0.46119478,  0.4259212 ,  0.42363749,\n",
       "        0.4154423 ,  0.41218842,  0.36779464,  0.30061885,  0.29467637,\n",
       "        0.27703449,  0.25218081,  0.24689467,  0.23703113,  0.23105779,\n",
       "        0.22907762,  0.20739231,  0.14234158,  0.1409318 ,  0.14041686,\n",
       "        0.12992353,  0.11648127,  0.10386079,  0.06260278,  0.05659276,\n",
       "        0.04381381,  0.03635583,  0.02334462,  0.01970139, -0.02079731,\n",
       "       -0.02326461, -0.05238554, -0.07089928, -0.07540045, -0.08174287,\n",
       "       -0.09489727, -0.09821993, -0.10092825, -0.14388953, -0.20465891,\n",
       "       -0.21335143, -0.21535573, -0.21826577, -0.26268148, -0.28928421,\n",
       "       -0.29044099, -0.33644553, -0.3399915 , -0.34757978, -0.34789059,\n",
       "       -0.36090558, -0.41387712, -0.42602414, -0.42603886, -0.42931113,\n",
       "       -0.50531371, -0.50667481, -0.5444063 , -0.56360796, -0.68829347,\n",
       "       -0.69692501, -0.7294767 , -0.73094093, -0.82976161, -0.89658555,\n",
       "       -1.09025839, -1.21303625])"
      ]
     },
     "execution_count": 90,
     "metadata": {},
     "output_type": "execute_result"
    }
   ],
   "source": [
    "### GRADED PART (DO NOT EDIT) ###\n",
    "part_5 = list(results.iloc[:, 1].values.squeeze())\n",
    "try:\n",
    "    part5 = \" \".join(map(repr, part_5))\n",
    "except TypeError:\n",
    "    part5 = repr(part_5)\n",
    "submissions[all_parts[4]]=part5\n",
    "grading.submit(COURSERA_EMAIL, COURSERA_TOKEN, assignment_key,all_parts[:5],all_parts,submissions)\n",
    "results.iloc[:, 1].values.squeeze()\n",
    "### GRADED PART (DO NOT EDIT) ###"
   ]
  },
  {
   "cell_type": "code",
   "execution_count": 91,
   "metadata": {},
   "outputs": [
    {
     "name": "stdout",
     "output_type": "stream",
     "text": [
      "Submission successful, please check on the coursera grader page for the status\n"
     ]
    },
    {
     "data": {
      "text/plain": [
       "42"
      ]
     },
     "execution_count": 91,
     "metadata": {},
     "output_type": "execute_result"
    }
   ],
   "source": [
    "### GRADED PART (DO NOT EDIT) ###\n",
    "part6 = str(idx_highest_sharpe)\n",
    "submissions[all_parts[5]]=part6\n",
    "grading.submit(COURSERA_EMAIL, COURSERA_TOKEN, assignment_key,all_parts[:6],all_parts,submissions)\n",
    "idx_highest_sharpe\n",
    "### GRADED PART (DO NOT EDIT) ###"
   ]
  },
  {
   "cell_type": "code",
   "execution_count": 92,
   "metadata": {},
   "outputs": [
    {
     "name": "stdout",
     "output_type": "stream",
     "text": [
      "The End\n"
     ]
    }
   ],
   "source": [
    "print('The End')"
   ]
  },
  {
   "cell_type": "code",
   "execution_count": null,
   "metadata": {
    "collapsed": true
   },
   "outputs": [],
   "source": []
  }
 ],
 "metadata": {
  "anaconda-cloud": {},
  "coursera": {
   "course_slug": "machine-learning-in-finance"
  },
  "kernelspec": {
   "display_name": "Python 3",
   "language": "python",
   "name": "python3"
  },
  "language_info": {
   "codemirror_mode": {
    "name": "ipython",
    "version": 3
   },
   "file_extension": ".py",
   "mimetype": "text/x-python",
   "name": "python",
   "nbconvert_exporter": "python",
   "pygments_lexer": "ipython3",
   "version": "3.6.2"
  }
 },
 "nbformat": 4,
 "nbformat_minor": 1
}
